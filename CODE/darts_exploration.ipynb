{
 "cells": [
  {
   "cell_type": "markdown",
   "id": "1046cce2",
   "metadata": {},
   "source": [
    "# Darts"
   ]
  },
  {
   "cell_type": "code",
   "execution_count": 6,
   "id": "35182688",
   "metadata": {},
   "outputs": [
    {
     "name": "stdout",
     "output_type": "stream",
     "text": [
      "Collecting darts\n",
      "  Downloading darts-0.23.0-py3-none-any.whl (589 kB)\n",
      "     -------------------------------------- 589.7/589.7 kB 2.9 MB/s eta 0:00:00\n",
      "Requirement already satisfied: prophet>=1.1.1 in c:\\users\\tamojit\\appdata\\local\\programs\\python\\python310\\lib\\site-packages (from darts) (1.1.1)\n",
      "Collecting catboost>=1.0.6\n",
      "  Downloading catboost-1.1.1-cp310-none-win_amd64.whl (73.9 MB)\n",
      "     ---------------------------------------- 73.9/73.9 MB 2.9 MB/s eta 0:00:00\n",
      "Requirement already satisfied: scipy>=1.3.2 in c:\\users\\tamojit\\appdata\\local\\programs\\python\\python310\\lib\\site-packages (from darts) (1.7.3)\n",
      "Collecting shap>=0.40.0\n",
      "  Downloading shap-0.41.0-cp310-cp310-win_amd64.whl (435 kB)\n",
      "     -------------------------------------- 435.6/435.6 kB 1.6 MB/s eta 0:00:00\n",
      "Collecting pytorch-lightning>=1.5.0\n",
      "  Downloading pytorch_lightning-1.8.6-py3-none-any.whl (800 kB)\n",
      "     -------------------------------------- 800.3/800.3 kB 2.4 MB/s eta 0:00:00\n",
      "Requirement already satisfied: scikit-learn>=1.0.1 in c:\\users\\tamojit\\appdata\\local\\programs\\python\\python310\\lib\\site-packages (from darts) (1.0.2)\n",
      "Requirement already satisfied: pandas>=1.0.5 in c:\\users\\tamojit\\appdata\\local\\programs\\python\\python310\\lib\\site-packages (from darts) (1.3.5)\n",
      "Collecting tbats>=1.1.0\n",
      "  Downloading tbats-1.1.2-py3-none-any.whl (43 kB)\n",
      "     ---------------------------------------- 43.8/43.8 kB ? eta 0:00:00\n",
      "Requirement already satisfied: joblib>=0.16.0 in c:\\users\\tamojit\\appdata\\local\\programs\\python\\python310\\lib\\site-packages (from darts) (1.1.0)\n",
      "Requirement already satisfied: statsmodels>=0.13.0 in c:\\users\\tamojit\\appdata\\local\\programs\\python\\python310\\lib\\site-packages (from darts) (0.13.5)\n",
      "Requirement already satisfied: holidays>=0.11.1 in c:\\users\\tamojit\\appdata\\local\\programs\\python\\python310\\lib\\site-packages (from darts) (0.17.2)\n",
      "Requirement already satisfied: requests>=2.22.0 in c:\\users\\tamojit\\appdata\\local\\programs\\python\\python310\\lib\\site-packages (from darts) (2.28.1)\n",
      "Collecting pyod>=0.9.5\n",
      "  Downloading pyod-1.0.7.tar.gz (147 kB)\n",
      "     -------------------------------------- 147.7/147.7 kB 1.8 MB/s eta 0:00:00\n",
      "  Preparing metadata (setup.py): started\n",
      "  Preparing metadata (setup.py): finished with status 'done'\n",
      "Collecting xgboost>=1.6.0\n",
      "  Downloading xgboost-1.7.3-py3-none-win_amd64.whl (89.1 MB)\n",
      "     ---------------------------------------- 89.1/89.1 MB 3.7 MB/s eta 0:00:00\n",
      "Collecting torch>=1.8.0\n",
      "  Downloading torch-1.13.1-cp310-cp310-win_amd64.whl (162.6 MB)\n",
      "     -------------------------------------- 162.6/162.6 MB 2.5 MB/s eta 0:00:00\n",
      "Collecting nfoursid>=1.0.0\n",
      "  Downloading nfoursid-1.0.1-py3-none-any.whl (16 kB)\n",
      "Requirement already satisfied: matplotlib>=3.3.0 in c:\\users\\tamojit\\appdata\\local\\programs\\python\\python310\\lib\\site-packages (from darts) (3.4.3)\n",
      "Collecting statsforecast>=1.0.0\n",
      "  Downloading statsforecast-1.4.0-py3-none-any.whl (91 kB)\n",
      "     ---------------------------------------- 92.0/92.0 kB 2.6 MB/s eta 0:00:00\n",
      "Collecting lightgbm>=3.2.0\n",
      "  Downloading lightgbm-3.3.4-py3-none-win_amd64.whl (1.0 MB)\n",
      "     ---------------------------------------- 1.0/1.0 MB 3.6 MB/s eta 0:00:00\n",
      "Collecting xarray>=0.17.0\n",
      "  Downloading xarray-2022.12.0-py3-none-any.whl (969 kB)\n",
      "     -------------------------------------- 970.0/970.0 kB 4.1 MB/s eta 0:00:00\n",
      "Requirement already satisfied: numpy>=1.19.0 in c:\\users\\tamojit\\appdata\\local\\programs\\python\\python310\\lib\\site-packages (from darts) (1.22.4)\n",
      "Requirement already satisfied: tqdm>=4.60.0 in c:\\users\\tamojit\\appdata\\local\\programs\\python\\python310\\lib\\site-packages (from darts) (4.64.1)\n",
      "Requirement already satisfied: pmdarima>=1.8.0 in c:\\users\\tamojit\\appdata\\local\\programs\\python\\python310\\lib\\site-packages (from darts) (2.0.2)\n",
      "Requirement already satisfied: graphviz in c:\\users\\tamojit\\appdata\\local\\programs\\python\\python310\\lib\\site-packages (from catboost>=1.0.6->darts) (0.19.1)\n",
      "Requirement already satisfied: six in c:\\users\\tamojit\\appdata\\local\\programs\\python\\python310\\lib\\site-packages (from catboost>=1.0.6->darts) (1.16.0)\n",
      "Requirement already satisfied: plotly in c:\\users\\tamojit\\appdata\\local\\programs\\python\\python310\\lib\\site-packages (from catboost>=1.0.6->darts) (5.6.0)\n",
      "Requirement already satisfied: convertdate>=2.3.0 in c:\\users\\tamojit\\appdata\\local\\programs\\python\\python310\\lib\\site-packages (from holidays>=0.11.1->darts) (2.4.0)\n",
      "Requirement already satisfied: korean-lunar-calendar in c:\\users\\tamojit\\appdata\\local\\programs\\python\\python310\\lib\\site-packages (from holidays>=0.11.1->darts) (0.3.1)\n",
      "Requirement already satisfied: python-dateutil in c:\\users\\tamojit\\appdata\\local\\programs\\python\\python310\\lib\\site-packages (from holidays>=0.11.1->darts) (2.8.2)\n",
      "Requirement already satisfied: hijri-converter in c:\\users\\tamojit\\appdata\\local\\programs\\python\\python310\\lib\\site-packages (from holidays>=0.11.1->darts) (2.2.4)\n",
      "Requirement already satisfied: wheel in c:\\users\\tamojit\\appdata\\local\\programs\\python\\python310\\lib\\site-packages (from lightgbm>=3.2.0->darts) (0.38.4)\n",
      "Requirement already satisfied: pyparsing>=2.2.1 in c:\\users\\tamojit\\appdata\\local\\programs\\python\\python310\\lib\\site-packages (from matplotlib>=3.3.0->darts) (2.4.7)\n",
      "Requirement already satisfied: pillow>=6.2.0 in c:\\users\\tamojit\\appdata\\local\\programs\\python\\python310\\lib\\site-packages (from matplotlib>=3.3.0->darts) (8.4.0)\n",
      "Requirement already satisfied: cycler>=0.10 in c:\\users\\tamojit\\appdata\\local\\programs\\python\\python310\\lib\\site-packages (from matplotlib>=3.3.0->darts) (0.11.0)\n",
      "Requirement already satisfied: kiwisolver>=1.0.1 in c:\\users\\tamojit\\appdata\\local\\programs\\python\\python310\\lib\\site-packages (from matplotlib>=3.3.0->darts) (1.3.2)\n",
      "Requirement already satisfied: pytz>=2017.3 in c:\\users\\tamojit\\appdata\\local\\programs\\python\\python310\\lib\\site-packages (from pandas>=1.0.5->darts) (2021.3)\n",
      "Requirement already satisfied: setuptools!=50.0.0,>=38.6.0 in c:\\users\\tamojit\\appdata\\local\\programs\\python\\python310\\lib\\site-packages (from pmdarima>=1.8.0->darts) (65.6.3)\n",
      "Requirement already satisfied: Cython!=0.29.18,!=0.29.31,>=0.29 in c:\\users\\tamojit\\appdata\\local\\programs\\python\\python310\\lib\\site-packages (from pmdarima>=1.8.0->darts) (0.29.32)\n",
      "Requirement already satisfied: urllib3 in c:\\users\\tamojit\\appdata\\local\\programs\\python\\python310\\lib\\site-packages (from pmdarima>=1.8.0->darts) (1.26.13)\n",
      "Requirement already satisfied: setuptools-git>=1.2 in c:\\users\\tamojit\\appdata\\local\\programs\\python\\python310\\lib\\site-packages (from prophet>=1.1.1->darts) (1.2)\n",
      "Requirement already satisfied: LunarCalendar>=0.0.9 in c:\\users\\tamojit\\appdata\\local\\programs\\python\\python310\\lib\\site-packages (from prophet>=1.1.1->darts) (0.0.9)\n",
      "Requirement already satisfied: cmdstanpy>=1.0.4 in c:\\users\\tamojit\\appdata\\local\\programs\\python\\python310\\lib\\site-packages (from prophet>=1.1.1->darts) (1.0.8)\n",
      "Collecting numba>=0.51\n",
      "  Downloading numba-0.56.4-cp310-cp310-win_amd64.whl (2.5 MB)\n",
      "     ---------------------------------------- 2.5/2.5 MB 4.3 MB/s eta 0:00:00\n",
      "Collecting torchmetrics>=0.7.0\n",
      "  Downloading torchmetrics-0.11.0-py3-none-any.whl (512 kB)\n",
      "     -------------------------------------- 512.4/512.4 kB 4.0 MB/s eta 0:00:00\n",
      "Collecting PyYAML>=5.4\n",
      "  Downloading PyYAML-6.0-cp310-cp310-win_amd64.whl (151 kB)\n",
      "     -------------------------------------- 151.7/151.7 kB 3.0 MB/s eta 0:00:00\n",
      "Note: you may need to restart the kernel to use updated packages.\n",
      "Collecting tensorboardX>=2.2\n",
      "  Downloading tensorboardX-2.5.1-py2.py3-none-any.whl (125 kB)\n",
      "     -------------------------------------- 125.4/125.4 kB 3.7 MB/s eta 0:00:00\n",
      "Requirement already satisfied: typing-extensions>=4.0.0 in c:\\users\\tamojit\\appdata\\local\\programs\\python\\python310\\lib\\site-packages (from pytorch-lightning>=1.5.0->darts) (4.4.0)\n",
      "Collecting lightning-utilities!=0.4.0,>=0.3.0\n",
      "  Downloading lightning_utilities-0.5.0-py3-none-any.whl (18 kB)\n",
      "Collecting fsspec[http]>2021.06.0\n",
      "  Downloading fsspec-2022.11.0-py3-none-any.whl (139 kB)\n",
      "     -------------------------------------- 139.5/139.5 kB 4.0 MB/s eta 0:00:00\n",
      "Requirement already satisfied: packaging>=17.0 in c:\\users\\tamojit\\appdata\\local\\programs\\python\\python310\\lib\\site-packages (from pytorch-lightning>=1.5.0->darts) (21.3)\n",
      "Requirement already satisfied: certifi>=2017.4.17 in c:\\users\\tamojit\\appdata\\local\\programs\\python\\python310\\lib\\site-packages (from requests>=2.22.0->darts) (2022.9.24)\n",
      "Requirement already satisfied: idna<4,>=2.5 in c:\\users\\tamojit\\appdata\\local\\programs\\python\\python310\\lib\\site-packages (from requests>=2.22.0->darts) (3.4)\n",
      "Requirement already satisfied: charset-normalizer<3,>=2 in c:\\users\\tamojit\\appdata\\local\\programs\\python\\python310\\lib\\site-packages (from requests>=2.22.0->darts) (2.1.1)\n",
      "Requirement already satisfied: threadpoolctl>=2.0.0 in c:\\users\\tamojit\\appdata\\local\\programs\\python\\python310\\lib\\site-packages (from scikit-learn>=1.0.1->darts) (3.0.0)\n",
      "Collecting slicer==0.0.7\n",
      "  Downloading slicer-0.0.7-py3-none-any.whl (14 kB)\n",
      "Collecting cloudpickle\n",
      "  Downloading cloudpickle-2.2.0-py3-none-any.whl (25 kB)\n",
      "Requirement already satisfied: patsy>=0.5.2 in c:\\users\\tamojit\\appdata\\local\\programs\\python\\python310\\lib\\site-packages (from statsmodels>=0.13.0->darts) (0.5.2)\n",
      "Requirement already satisfied: colorama in c:\\users\\tamojit\\appdata\\local\\programs\\python\\python310\\lib\\site-packages (from tqdm>=4.60.0->darts) (0.4.4)\n",
      "Requirement already satisfied: pymeeus<=1,>=0.3.13 in c:\\users\\tamojit\\appdata\\local\\programs\\python\\python310\\lib\\site-packages (from convertdate>=2.3.0->holidays>=0.11.1->darts) (0.5.11)\n",
      "Collecting aiohttp!=4.0.0a0,!=4.0.0a1\n",
      "  Using cached aiohttp-3.8.3-cp310-cp310-win_amd64.whl (319 kB)\n",
      "Requirement already satisfied: ephem>=3.7.5.3 in c:\\users\\tamojit\\appdata\\local\\programs\\python\\python310\\lib\\site-packages (from LunarCalendar>=0.0.9->prophet>=1.1.1->darts) (4.1.3)\n",
      "Collecting llvmlite<0.40,>=0.39.0dev0\n",
      "  Downloading llvmlite-0.39.1-cp310-cp310-win_amd64.whl (23.2 MB)\n",
      "     ---------------------------------------- 23.2/23.2 MB 2.1 MB/s eta 0:00:00\n",
      "Requirement already satisfied: protobuf<=3.20.1,>=3.8.0 in c:\\users\\tamojit\\appdata\\local\\programs\\python\\python310\\lib\\site-packages (from tensorboardX>=2.2->pytorch-lightning>=1.5.0->darts) (3.19.6)\n",
      "Requirement already satisfied: tenacity>=6.2.0 in c:\\users\\tamojit\\appdata\\local\\programs\\python\\python310\\lib\\site-packages (from plotly->catboost>=1.0.6->darts) (8.0.1)\n",
      "Collecting aiosignal>=1.1.2\n",
      "  Downloading aiosignal-1.3.1-py3-none-any.whl (7.6 kB)\n",
      "Requirement already satisfied: attrs>=17.3.0 in c:\\users\\tamojit\\appdata\\local\\programs\\python\\python310\\lib\\site-packages (from aiohttp!=4.0.0a0,!=4.0.0a1->fsspec[http]>2021.06.0->pytorch-lightning>=1.5.0->darts) (21.2.0)\n",
      "Collecting yarl<2.0,>=1.0\n",
      "  Downloading yarl-1.8.2-cp310-cp310-win_amd64.whl (56 kB)\n",
      "     ---------------------------------------- 56.1/56.1 kB 1.5 MB/s eta 0:00:00\n",
      "Collecting async-timeout<5.0,>=4.0.0a3\n",
      "  Downloading async_timeout-4.0.2-py3-none-any.whl (5.8 kB)\n",
      "Collecting multidict<7.0,>=4.5\n",
      "  Downloading multidict-6.0.4-cp310-cp310-win_amd64.whl (28 kB)\n",
      "Collecting frozenlist>=1.1.1\n",
      "  Downloading frozenlist-1.3.3-cp310-cp310-win_amd64.whl (33 kB)\n",
      "Building wheels for collected packages: pyod\n",
      "  Building wheel for pyod (setup.py): started\n",
      "  Building wheel for pyod (setup.py): finished with status 'done'\n",
      "  Created wheel for pyod: filename=pyod-1.0.7-py3-none-any.whl size=181151 sha256=746ba341f9227f77b96244f8f8f49613f1a7d4e2ebb6caade63d7266cb4c7f65\n",
      "  Stored in directory: c:\\users\\tamojit\\appdata\\local\\pip\\cache\\wheels\\4f\\6f\\f6\\ef9a81374c5594fc3af57a0441d22899c131e2d01ea00e23f6\n",
      "Successfully built pyod\n",
      "Installing collected packages: torch, tensorboardX, slicer, PyYAML, multidict, llvmlite, fsspec, frozenlist, cloudpickle, async-timeout, yarl, xgboost, torchmetrics, numba, lightning-utilities, aiosignal, xarray, shap, nfoursid, lightgbm, catboost, aiohttp, statsforecast, pyod, tbats, pytorch-lightning, darts\n",
      "Successfully installed PyYAML-6.0 aiohttp-3.8.3 aiosignal-1.3.1 async-timeout-4.0.2 catboost-1.1.1 cloudpickle-2.2.0 darts-0.23.0 frozenlist-1.3.3 fsspec-2022.11.0 lightgbm-3.3.4 lightning-utilities-0.5.0 llvmlite-0.39.1 multidict-6.0.4 nfoursid-1.0.1 numba-0.56.4 pyod-1.0.7 pytorch-lightning-1.8.6 shap-0.41.0 slicer-0.0.7 statsforecast-1.4.0 tbats-1.1.2 tensorboardX-2.5.1 torch-1.13.1 torchmetrics-0.11.0 xarray-2022.12.0 xgboost-1.7.3 yarl-1.8.2\n"
     ]
    }
   ],
   "source": [
    "pip install darts"
   ]
  },
  {
   "cell_type": "code",
   "execution_count": 7,
   "id": "1357cf1c",
   "metadata": {},
   "outputs": [],
   "source": [
    "import pandas as pd\n",
    "from darts import TimeSeries"
   ]
  },
  {
   "cell_type": "code",
   "execution_count": 15,
   "id": "4cc3fcb1",
   "metadata": {},
   "outputs": [],
   "source": [
    "# import csv dataset\n",
    "df=pd.read_csv('divvy-tripdata_cleaned.csv',delimiter=\",\")"
   ]
  },
  {
   "cell_type": "code",
   "execution_count": 18,
   "id": "062b4244",
   "metadata": {},
   "outputs": [
    {
     "name": "stderr",
     "output_type": "stream",
     "text": [
      "ValueError: Could not find a unique inferred frequency (not constant). Observed frequencies: {'29T', '36T', '11T', '15T', '2T', '53T', '14T', '8T', '9T', '16T', '35T', '13T', '3T', '41T', '19T', 'T', '5T', '25T', '45T', '18T', '6T', '12T', '20T', '10T', '24T', '21T', '17T', '48T', '4T', '28T', '47T', '7T', '23T', '22T'}. If any of those is the actual frequency, try passing it with fill_missing_dates=True and freq=your_frequency. For more information about frequency aliases, read https://pandas.pydata.org/pandas-docs/stable/user_guide/timeseries.html#offset-aliases\n"
     ]
    },
    {
     "ename": "ValueError",
     "evalue": "Could not find a unique inferred frequency (not constant). Observed frequencies: {'29T', '36T', '11T', '15T', '2T', '53T', '14T', '8T', '9T', '16T', '35T', '13T', '3T', '41T', '19T', 'T', '5T', '25T', '45T', '18T', '6T', '12T', '20T', '10T', '24T', '21T', '17T', '48T', '4T', '28T', '47T', '7T', '23T', '22T'}. If any of those is the actual frequency, try passing it with fill_missing_dates=True and freq=your_frequency. For more information about frequency aliases, read https://pandas.pydata.org/pandas-docs/stable/user_guide/timeseries.html#offset-aliases",
     "output_type": "error",
     "traceback": [
      "\u001b[1;31m---------------------------------------------------------------------------\u001b[0m",
      "\u001b[1;31mValueError\u001b[0m                                Traceback (most recent call last)",
      "\u001b[1;32m~\\AppData\\Local\\Temp/ipykernel_18960/1972805434.py\u001b[0m in \u001b[0;36m<module>\u001b[1;34m\u001b[0m\n\u001b[1;32m----> 1\u001b[1;33m \u001b[0mseries\u001b[0m \u001b[1;33m=\u001b[0m \u001b[0mTimeSeries\u001b[0m\u001b[1;33m.\u001b[0m\u001b[0mfrom_dataframe\u001b[0m\u001b[1;33m(\u001b[0m\u001b[0mdf\u001b[0m\u001b[1;33m,\u001b[0m \u001b[1;34m\"start_time\"\u001b[0m\u001b[1;33m,\u001b[0m \u001b[1;34m\"trip_duration\"\u001b[0m\u001b[1;33m,\u001b[0m \u001b[0mfill_missing_dates\u001b[0m\u001b[1;33m=\u001b[0m\u001b[1;32mTrue\u001b[0m\u001b[1;33m)\u001b[0m\u001b[1;33m\u001b[0m\u001b[1;33m\u001b[0m\u001b[0m\n\u001b[0m",
      "\u001b[1;32m~\\AppData\\Local\\Programs\\Python\\Python310\\lib\\site-packages\\darts\\timeseries.py\u001b[0m in \u001b[0;36mfrom_dataframe\u001b[1;34m(cls, df, time_col, value_cols, fill_missing_dates, freq, fillna_value, static_covariates, hierarchy)\u001b[0m\n\u001b[0;32m    680\u001b[0m         )\n\u001b[0;32m    681\u001b[0m \u001b[1;33m\u001b[0m\u001b[0m\n\u001b[1;32m--> 682\u001b[1;33m         return cls.from_xarray(\n\u001b[0m\u001b[0;32m    683\u001b[0m             \u001b[0mxa\u001b[0m\u001b[1;33m=\u001b[0m\u001b[0mxa\u001b[0m\u001b[1;33m,\u001b[0m\u001b[1;33m\u001b[0m\u001b[1;33m\u001b[0m\u001b[0m\n\u001b[0;32m    684\u001b[0m             \u001b[0mfill_missing_dates\u001b[0m\u001b[1;33m=\u001b[0m\u001b[0mfill_missing_dates\u001b[0m\u001b[1;33m,\u001b[0m\u001b[1;33m\u001b[0m\u001b[1;33m\u001b[0m\u001b[0m\n",
      "\u001b[1;32m~\\AppData\\Local\\Programs\\Python\\Python310\\lib\\site-packages\\darts\\timeseries.py\u001b[0m in \u001b[0;36mfrom_xarray\u001b[1;34m(cls, xa, fill_missing_dates, freq, fillna_value)\u001b[0m\n\u001b[0;32m    346\u001b[0m         \u001b[1;31m# optionally fill missing dates; do it only when there is a DatetimeIndex (and not a RangeIndex)\u001b[0m\u001b[1;33m\u001b[0m\u001b[1;33m\u001b[0m\u001b[0m\n\u001b[0;32m    347\u001b[0m         \u001b[1;32mif\u001b[0m \u001b[0mfill_missing_dates\u001b[0m \u001b[1;32mand\u001b[0m \u001b[0mhas_datetime_index\u001b[0m\u001b[1;33m:\u001b[0m\u001b[1;33m\u001b[0m\u001b[1;33m\u001b[0m\u001b[0m\n\u001b[1;32m--> 348\u001b[1;33m             \u001b[0mxa_\u001b[0m \u001b[1;33m=\u001b[0m \u001b[0mcls\u001b[0m\u001b[1;33m.\u001b[0m\u001b[0m_fill_missing_dates\u001b[0m\u001b[1;33m(\u001b[0m\u001b[0mxa\u001b[0m\u001b[1;33m,\u001b[0m \u001b[0mfreq\u001b[0m\u001b[1;33m=\u001b[0m\u001b[0mfreq\u001b[0m\u001b[1;33m)\u001b[0m\u001b[1;33m\u001b[0m\u001b[1;33m\u001b[0m\u001b[0m\n\u001b[0m\u001b[0;32m    349\u001b[0m         \u001b[1;31m# The provided index does not have a freq; using the provided freq\u001b[0m\u001b[1;33m\u001b[0m\u001b[1;33m\u001b[0m\u001b[0m\n\u001b[0;32m    350\u001b[0m         \u001b[1;32melif\u001b[0m \u001b[0mhas_datetime_index\u001b[0m \u001b[1;32mand\u001b[0m \u001b[0mfreq\u001b[0m \u001b[1;32mis\u001b[0m \u001b[1;32mnot\u001b[0m \u001b[1;32mNone\u001b[0m \u001b[1;32mand\u001b[0m \u001b[1;32mnot\u001b[0m \u001b[0mhas_frequency\u001b[0m\u001b[1;33m:\u001b[0m\u001b[1;33m\u001b[0m\u001b[1;33m\u001b[0m\u001b[0m\n",
      "\u001b[1;32m~\\AppData\\Local\\Programs\\Python\\Python310\\lib\\site-packages\\darts\\timeseries.py\u001b[0m in \u001b[0;36m_fill_missing_dates\u001b[1;34m(cls, xa, freq)\u001b[0m\n\u001b[0;32m   4242\u001b[0m         \u001b[0mobserved_freqs\u001b[0m\u001b[1;33m.\u001b[0m\u001b[0mdiscard\u001b[0m\u001b[1;33m(\u001b[0m\u001b[1;32mNone\u001b[0m\u001b[1;33m)\u001b[0m\u001b[1;33m\u001b[0m\u001b[1;33m\u001b[0m\u001b[0m\n\u001b[0;32m   4243\u001b[0m \u001b[1;33m\u001b[0m\u001b[0m\n\u001b[1;32m-> 4244\u001b[1;33m         raise_if_not(\n\u001b[0m\u001b[0;32m   4245\u001b[0m             \u001b[0mlen\u001b[0m\u001b[1;33m(\u001b[0m\u001b[0mobserved_freqs\u001b[0m\u001b[1;33m)\u001b[0m \u001b[1;33m==\u001b[0m \u001b[1;36m1\u001b[0m\u001b[1;33m,\u001b[0m\u001b[1;33m\u001b[0m\u001b[1;33m\u001b[0m\u001b[0m\n\u001b[0;32m   4246\u001b[0m             \u001b[1;34mf\"Could not observe an inferred frequency. An explicit frequency must be evident over a span of at least \"\u001b[0m\u001b[1;33m\u001b[0m\u001b[1;33m\u001b[0m\u001b[0m\n",
      "\u001b[1;32m~\\AppData\\Local\\Programs\\Python\\Python310\\lib\\site-packages\\darts\\logging.py\u001b[0m in \u001b[0;36mraise_if_not\u001b[1;34m(condition, message, logger)\u001b[0m\n\u001b[0;32m     76\u001b[0m     \u001b[1;32mif\u001b[0m \u001b[1;32mnot\u001b[0m \u001b[0mcondition\u001b[0m\u001b[1;33m:\u001b[0m\u001b[1;33m\u001b[0m\u001b[1;33m\u001b[0m\u001b[0m\n\u001b[0;32m     77\u001b[0m         \u001b[0mlogger\u001b[0m\u001b[1;33m.\u001b[0m\u001b[0merror\u001b[0m\u001b[1;33m(\u001b[0m\u001b[1;34m\"ValueError: \"\u001b[0m \u001b[1;33m+\u001b[0m \u001b[0mmessage\u001b[0m\u001b[1;33m)\u001b[0m\u001b[1;33m\u001b[0m\u001b[1;33m\u001b[0m\u001b[0m\n\u001b[1;32m---> 78\u001b[1;33m         \u001b[1;32mraise\u001b[0m \u001b[0mValueError\u001b[0m\u001b[1;33m(\u001b[0m\u001b[0mmessage\u001b[0m\u001b[1;33m)\u001b[0m\u001b[1;33m\u001b[0m\u001b[1;33m\u001b[0m\u001b[0m\n\u001b[0m\u001b[0;32m     79\u001b[0m \u001b[1;33m\u001b[0m\u001b[0m\n\u001b[0;32m     80\u001b[0m \u001b[1;33m\u001b[0m\u001b[0m\n",
      "\u001b[1;31mValueError\u001b[0m: Could not find a unique inferred frequency (not constant). Observed frequencies: {'29T', '36T', '11T', '15T', '2T', '53T', '14T', '8T', '9T', '16T', '35T', '13T', '3T', '41T', '19T', 'T', '5T', '25T', '45T', '18T', '6T', '12T', '20T', '10T', '24T', '21T', '17T', '48T', '4T', '28T', '47T', '7T', '23T', '22T'}. If any of those is the actual frequency, try passing it with fill_missing_dates=True and freq=your_frequency. For more information about frequency aliases, read https://pandas.pydata.org/pandas-docs/stable/user_guide/timeseries.html#offset-aliases"
     ]
    }
   ],
   "source": [
    "series = TimeSeries.from_dataframe(df, \"start_time\", \"trip_duration\", fill_missing_dates=True)"
   ]
  },
  {
   "cell_type": "code",
   "execution_count": null,
   "id": "4dafd18f",
   "metadata": {},
   "outputs": [],
   "source": []
  }
 ],
 "metadata": {
  "kernelspec": {
   "display_name": "Python 3 (ipykernel)",
   "language": "python",
   "name": "python3"
  },
  "language_info": {
   "codemirror_mode": {
    "name": "ipython",
    "version": 3
   },
   "file_extension": ".py",
   "mimetype": "text/x-python",
   "name": "python",
   "nbconvert_exporter": "python",
   "pygments_lexer": "ipython3",
   "version": "3.10.0"
  }
 },
 "nbformat": 4,
 "nbformat_minor": 5
}
