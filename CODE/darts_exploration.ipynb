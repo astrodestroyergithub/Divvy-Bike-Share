{
 "cells": [
  {
   "cell_type": "markdown",
   "id": "1046cce2",
   "metadata": {},
   "source": [
    "# Darts"
   ]
  },
  {
   "cell_type": "code",
   "execution_count": 1,
   "id": "35182688",
   "metadata": {},
   "outputs": [
    {
     "name": "stdout",
     "output_type": "stream",
     "text": [
      "Requirement already satisfied: darts in c:\\users\\tamojit\\appdata\\local\\programs\\python\\python310\\lib\\site-packages (0.23.0)\n",
      "Requirement already satisfied: scipy>=1.3.2 in c:\\users\\tamojit\\appdata\\local\\programs\\python\\python310\\lib\\site-packages (from darts) (1.7.3)\n",
      "Requirement already satisfied: pytorch-lightning>=1.5.0 in c:\\users\\tamojit\\appdata\\local\\programs\\python\\python310\\lib\\site-packages (from darts) (1.8.6)\n",
      "Requirement already satisfied: tqdm>=4.60.0 in c:\\users\\tamojit\\appdata\\local\\programs\\python\\python310\\lib\\site-packages (from darts) (4.64.1)\n",
      "Requirement already satisfied: pyod>=0.9.5 in c:\\users\\tamojit\\appdata\\local\\programs\\python\\python310\\lib\\site-packages (from darts) (1.0.7)\n",
      "Requirement already satisfied: matplotlib>=3.3.0 in c:\\users\\tamojit\\appdata\\local\\programs\\python\\python310\\lib\\site-packages (from darts) (3.4.3)\n",
      "Requirement already satisfied: prophet>=1.1.1 in c:\\users\\tamojit\\appdata\\local\\programs\\python\\python310\\lib\\site-packages (from darts) (1.1.1)\n",
      "Requirement already satisfied: nfoursid>=1.0.0 in c:\\users\\tamojit\\appdata\\local\\programs\\python\\python310\\lib\\site-packages (from darts) (1.0.1)\n",
      "Requirement already satisfied: pandas>=1.0.5 in c:\\users\\tamojit\\appdata\\local\\programs\\python\\python310\\lib\\site-packages (from darts) (1.3.5)\n",
      "Requirement already satisfied: scikit-learn>=1.0.1 in c:\\users\\tamojit\\appdata\\local\\programs\\python\\python310\\lib\\site-packages (from darts) (1.0.2)\n",
      "Requirement already satisfied: xgboost>=1.6.0 in c:\\users\\tamojit\\appdata\\local\\programs\\python\\python310\\lib\\site-packages (from darts) (1.7.3)\n",
      "Requirement already satisfied: torch>=1.8.0 in c:\\users\\tamojit\\appdata\\local\\programs\\python\\python310\\lib\\site-packages (from darts) (1.13.1)\n",
      "Requirement already satisfied: holidays>=0.11.1 in c:\\users\\tamojit\\appdata\\local\\programs\\python\\python310\\lib\\site-packages (from darts) (0.17.2)\n",
      "Requirement already satisfied: statsforecast>=1.0.0 in c:\\users\\tamojit\\appdata\\local\\programs\\python\\python310\\lib\\site-packages (from darts) (1.4.0)\n",
      "Requirement already satisfied: catboost>=1.0.6 in c:\\users\\tamojit\\appdata\\local\\programs\\python\\python310\\lib\\site-packages (from darts) (1.1.1)\n",
      "Requirement already satisfied: tbats>=1.1.0 in c:\\users\\tamojit\\appdata\\local\\programs\\python\\python310\\lib\\site-packages (from darts) (1.1.2)\n",
      "Requirement already satisfied: lightgbm>=3.2.0 in c:\\users\\tamojit\\appdata\\local\\programs\\python\\python310\\lib\\site-packages (from darts) (3.3.4)\n",
      "Requirement already satisfied: xarray>=0.17.0 in c:\\users\\tamojit\\appdata\\local\\programs\\python\\python310\\lib\\site-packages (from darts) (2022.12.0)\n",
      "Requirement already satisfied: joblib>=0.16.0 in c:\\users\\tamojit\\appdata\\local\\programs\\python\\python310\\lib\\site-packages (from darts) (1.1.0)\n",
      "Requirement already satisfied: requests>=2.22.0 in c:\\users\\tamojit\\appdata\\local\\programs\\python\\python310\\lib\\site-packages (from darts) (2.28.1)\n",
      "Requirement already satisfied: shap>=0.40.0 in c:\\users\\tamojit\\appdata\\local\\programs\\python\\python310\\lib\\site-packages (from darts) (0.41.0)\n",
      "Requirement already satisfied: statsmodels>=0.13.0 in c:\\users\\tamojit\\appdata\\local\\programs\\python\\python310\\lib\\site-packages (from darts) (0.13.5)\n",
      "Requirement already satisfied: pmdarima>=1.8.0 in c:\\users\\tamojit\\appdata\\local\\programs\\python\\python310\\lib\\site-packages (from darts) (2.0.2)\n",
      "Requirement already satisfied: numpy>=1.19.0 in c:\\users\\tamojit\\appdata\\local\\programs\\python\\python310\\lib\\site-packages (from darts) (1.22.4)\n",
      "Requirement already satisfied: plotly in c:\\users\\tamojit\\appdata\\local\\programs\\python\\python310\\lib\\site-packages (from catboost>=1.0.6->darts) (5.6.0)\n",
      "Requirement already satisfied: graphviz in c:\\users\\tamojit\\appdata\\local\\programs\\python\\python310\\lib\\site-packages (from catboost>=1.0.6->darts) (0.19.1)\n",
      "Requirement already satisfied: six in c:\\users\\tamojit\\appdata\\local\\programs\\python\\python310\\lib\\site-packages (from catboost>=1.0.6->darts) (1.16.0)\n",
      "Requirement already satisfied: python-dateutil in c:\\users\\tamojit\\appdata\\local\\programs\\python\\python310\\lib\\site-packages (from holidays>=0.11.1->darts) (2.8.2)\n",
      "Requirement already satisfied: convertdate>=2.3.0 in c:\\users\\tamojit\\appdata\\local\\programs\\python\\python310\\lib\\site-packages (from holidays>=0.11.1->darts) (2.4.0)\n",
      "Requirement already satisfied: korean-lunar-calendar in c:\\users\\tamojit\\appdata\\local\\programs\\python\\python310\\lib\\site-packages (from holidays>=0.11.1->darts) (0.3.1)\n",
      "Note: you may need to restart the kernel to use updated packages.\n",
      "Requirement already satisfied: hijri-converter in c:\\users\\tamojit\\appdata\\local\\programs\\python\\python310\\lib\\site-packages (from holidays>=0.11.1->darts) (2.2.4)\n",
      "Requirement already satisfied: wheel in c:\\users\\tamojit\\appdata\\local\\programs\\python\\python310\\lib\\site-packages (from lightgbm>=3.2.0->darts) (0.38.4)\n",
      "Requirement already satisfied: pyparsing>=2.2.1 in c:\\users\\tamojit\\appdata\\local\\programs\\python\\python310\\lib\\site-packages (from matplotlib>=3.3.0->darts) (2.4.7)\n",
      "Requirement already satisfied: kiwisolver>=1.0.1 in c:\\users\\tamojit\\appdata\\local\\programs\\python\\python310\\lib\\site-packages (from matplotlib>=3.3.0->darts) (1.3.2)\n",
      "Requirement already satisfied: pillow>=6.2.0 in c:\\users\\tamojit\\appdata\\local\\programs\\python\\python310\\lib\\site-packages (from matplotlib>=3.3.0->darts) (8.4.0)\n",
      "Requirement already satisfied: cycler>=0.10 in c:\\users\\tamojit\\appdata\\local\\programs\\python\\python310\\lib\\site-packages (from matplotlib>=3.3.0->darts) (0.11.0)\n",
      "Requirement already satisfied: pytz>=2017.3 in c:\\users\\tamojit\\appdata\\local\\programs\\python\\python310\\lib\\site-packages (from pandas>=1.0.5->darts) (2021.3)\n",
      "Requirement already satisfied: setuptools!=50.0.0,>=38.6.0 in c:\\users\\tamojit\\appdata\\local\\programs\\python\\python310\\lib\\site-packages (from pmdarima>=1.8.0->darts) (65.6.3)\n",
      "Requirement already satisfied: Cython!=0.29.18,!=0.29.31,>=0.29 in c:\\users\\tamojit\\appdata\\local\\programs\\python\\python310\\lib\\site-packages (from pmdarima>=1.8.0->darts) (0.29.32)\n",
      "Requirement already satisfied: urllib3 in c:\\users\\tamojit\\appdata\\local\\programs\\python\\python310\\lib\\site-packages (from pmdarima>=1.8.0->darts) (1.26.13)\n",
      "Requirement already satisfied: cmdstanpy>=1.0.4 in c:\\users\\tamojit\\appdata\\local\\programs\\python\\python310\\lib\\site-packages (from prophet>=1.1.1->darts) (1.0.8)\n",
      "Requirement already satisfied: setuptools-git>=1.2 in c:\\users\\tamojit\\appdata\\local\\programs\\python\\python310\\lib\\site-packages (from prophet>=1.1.1->darts) (1.2)\n",
      "Requirement already satisfied: LunarCalendar>=0.0.9 in c:\\users\\tamojit\\appdata\\local\\programs\\python\\python310\\lib\\site-packages (from prophet>=1.1.1->darts) (0.0.9)\n",
      "Requirement already satisfied: numba>=0.51 in c:\\users\\tamojit\\appdata\\local\\programs\\python\\python310\\lib\\site-packages (from pyod>=0.9.5->darts) (0.56.4)\n",
      "Requirement already satisfied: fsspec[http]>2021.06.0 in c:\\users\\tamojit\\appdata\\local\\programs\\python\\python310\\lib\\site-packages (from pytorch-lightning>=1.5.0->darts) (2022.11.0)\n",
      "Requirement already satisfied: torchmetrics>=0.7.0 in c:\\users\\tamojit\\appdata\\local\\programs\\python\\python310\\lib\\site-packages (from pytorch-lightning>=1.5.0->darts) (0.11.0)\n",
      "Requirement already satisfied: PyYAML>=5.4 in c:\\users\\tamojit\\appdata\\local\\programs\\python\\python310\\lib\\site-packages (from pytorch-lightning>=1.5.0->darts) (6.0)\n",
      "Requirement already satisfied: tensorboardX>=2.2 in c:\\users\\tamojit\\appdata\\local\\programs\\python\\python310\\lib\\site-packages (from pytorch-lightning>=1.5.0->darts) (2.5.1)\n",
      "Requirement already satisfied: typing-extensions>=4.0.0 in c:\\users\\tamojit\\appdata\\local\\programs\\python\\python310\\lib\\site-packages (from pytorch-lightning>=1.5.0->darts) (4.4.0)\n",
      "Requirement already satisfied: packaging>=17.0 in c:\\users\\tamojit\\appdata\\local\\programs\\python\\python310\\lib\\site-packages (from pytorch-lightning>=1.5.0->darts) (21.3)\n",
      "Requirement already satisfied: lightning-utilities!=0.4.0,>=0.3.0 in c:\\users\\tamojit\\appdata\\local\\programs\\python\\python310\\lib\\site-packages (from pytorch-lightning>=1.5.0->darts) (0.5.0)\n",
      "Requirement already satisfied: certifi>=2017.4.17 in c:\\users\\tamojit\\appdata\\local\\programs\\python\\python310\\lib\\site-packages (from requests>=2.22.0->darts) (2022.9.24)\n",
      "Requirement already satisfied: charset-normalizer<3,>=2 in c:\\users\\tamojit\\appdata\\local\\programs\\python\\python310\\lib\\site-packages (from requests>=2.22.0->darts) (2.1.1)\n",
      "Requirement already satisfied: idna<4,>=2.5 in c:\\users\\tamojit\\appdata\\local\\programs\\python\\python310\\lib\\site-packages (from requests>=2.22.0->darts) (3.4)\n",
      "Requirement already satisfied: threadpoolctl>=2.0.0 in c:\\users\\tamojit\\appdata\\local\\programs\\python\\python310\\lib\\site-packages (from scikit-learn>=1.0.1->darts) (3.0.0)\n",
      "Requirement already satisfied: slicer==0.0.7 in c:\\users\\tamojit\\appdata\\local\\programs\\python\\python310\\lib\\site-packages (from shap>=0.40.0->darts) (0.0.7)\n",
      "Requirement already satisfied: cloudpickle in c:\\users\\tamojit\\appdata\\local\\programs\\python\\python310\\lib\\site-packages (from shap>=0.40.0->darts) (2.2.0)\n",
      "Requirement already satisfied: patsy>=0.5.2 in c:\\users\\tamojit\\appdata\\local\\programs\\python\\python310\\lib\\site-packages (from statsmodels>=0.13.0->darts) (0.5.2)\n",
      "Requirement already satisfied: colorama in c:\\users\\tamojit\\appdata\\local\\programs\\python\\python310\\lib\\site-packages (from tqdm>=4.60.0->darts) (0.4.4)\n",
      "Requirement already satisfied: pymeeus<=1,>=0.3.13 in c:\\users\\tamojit\\appdata\\local\\programs\\python\\python310\\lib\\site-packages (from convertdate>=2.3.0->holidays>=0.11.1->darts) (0.5.11)\n",
      "Requirement already satisfied: aiohttp!=4.0.0a0,!=4.0.0a1 in c:\\users\\tamojit\\appdata\\local\\programs\\python\\python310\\lib\\site-packages (from fsspec[http]>2021.06.0->pytorch-lightning>=1.5.0->darts) (3.8.3)\n",
      "Requirement already satisfied: ephem>=3.7.5.3 in c:\\users\\tamojit\\appdata\\local\\programs\\python\\python310\\lib\\site-packages (from LunarCalendar>=0.0.9->prophet>=1.1.1->darts) (4.1.3)\n",
      "Requirement already satisfied: llvmlite<0.40,>=0.39.0dev0 in c:\\users\\tamojit\\appdata\\local\\programs\\python\\python310\\lib\\site-packages (from numba>=0.51->pyod>=0.9.5->darts) (0.39.1)\n",
      "Requirement already satisfied: protobuf<=3.20.1,>=3.8.0 in c:\\users\\tamojit\\appdata\\local\\programs\\python\\python310\\lib\\site-packages (from tensorboardX>=2.2->pytorch-lightning>=1.5.0->darts) (3.19.6)\n",
      "Requirement already satisfied: tenacity>=6.2.0 in c:\\users\\tamojit\\appdata\\local\\programs\\python\\python310\\lib\\site-packages (from plotly->catboost>=1.0.6->darts) (8.0.1)\n",
      "Requirement already satisfied: attrs>=17.3.0 in c:\\users\\tamojit\\appdata\\local\\programs\\python\\python310\\lib\\site-packages (from aiohttp!=4.0.0a0,!=4.0.0a1->fsspec[http]>2021.06.0->pytorch-lightning>=1.5.0->darts) (21.2.0)\n",
      "Requirement already satisfied: async-timeout<5.0,>=4.0.0a3 in c:\\users\\tamojit\\appdata\\local\\programs\\python\\python310\\lib\\site-packages (from aiohttp!=4.0.0a0,!=4.0.0a1->fsspec[http]>2021.06.0->pytorch-lightning>=1.5.0->darts) (4.0.2)\n",
      "Requirement already satisfied: aiosignal>=1.1.2 in c:\\users\\tamojit\\appdata\\local\\programs\\python\\python310\\lib\\site-packages (from aiohttp!=4.0.0a0,!=4.0.0a1->fsspec[http]>2021.06.0->pytorch-lightning>=1.5.0->darts) (1.3.1)\n",
      "Requirement already satisfied: yarl<2.0,>=1.0 in c:\\users\\tamojit\\appdata\\local\\programs\\python\\python310\\lib\\site-packages (from aiohttp!=4.0.0a0,!=4.0.0a1->fsspec[http]>2021.06.0->pytorch-lightning>=1.5.0->darts) (1.8.2)\n",
      "Requirement already satisfied: multidict<7.0,>=4.5 in c:\\users\\tamojit\\appdata\\local\\programs\\python\\python310\\lib\\site-packages (from aiohttp!=4.0.0a0,!=4.0.0a1->fsspec[http]>2021.06.0->pytorch-lightning>=1.5.0->darts) (6.0.4)\n",
      "Requirement already satisfied: frozenlist>=1.1.1 in c:\\users\\tamojit\\appdata\\local\\programs\\python\\python310\\lib\\site-packages (from aiohttp!=4.0.0a0,!=4.0.0a1->fsspec[http]>2021.06.0->pytorch-lightning>=1.5.0->darts) (1.3.3)\n"
     ]
    }
   ],
   "source": [
    "pip install darts"
   ]
  },
  {
   "cell_type": "code",
   "execution_count": 2,
   "id": "1357cf1c",
   "metadata": {},
   "outputs": [],
   "source": [
    "import pandas as pd\n",
    "from darts import TimeSeries"
   ]
  },
  {
   "cell_type": "code",
   "execution_count": 3,
   "id": "4cc3fcb1",
   "metadata": {},
   "outputs": [],
   "source": [
    "# import csv dataset\n",
    "df=pd.read_csv('aggregate_trip_duration_date.csv',delimiter=\",\")\n",
    "df=pd.DataFrame(df)\n",
    "df=df.dropna()\n",
    "df=df.sort_values(\"date\")"
   ]
  },
  {
   "cell_type": "code",
   "execution_count": 4,
   "id": "062b4244",
   "metadata": {},
   "outputs": [
    {
     "data": {
      "text/html": [
       "<div>\n",
       "<style scoped>\n",
       "    .dataframe tbody tr th:only-of-type {\n",
       "        vertical-align: middle;\n",
       "    }\n",
       "\n",
       "    .dataframe tbody tr th {\n",
       "        vertical-align: top;\n",
       "    }\n",
       "\n",
       "    .dataframe thead th {\n",
       "        text-align: right;\n",
       "    }\n",
       "</style>\n",
       "<table border=\"1\" class=\"dataframe\">\n",
       "  <thead>\n",
       "    <tr style=\"text-align: right;\">\n",
       "      <th></th>\n",
       "      <th>date</th>\n",
       "      <th>trip_duration</th>\n",
       "    </tr>\n",
       "  </thead>\n",
       "  <tbody>\n",
       "    <tr>\n",
       "      <th>0</th>\n",
       "      <td>2013-06-30</td>\n",
       "      <td>146356</td>\n",
       "    </tr>\n",
       "    <tr>\n",
       "      <th>1</th>\n",
       "      <td>2013-07-01</td>\n",
       "      <td>202276</td>\n",
       "    </tr>\n",
       "    <tr>\n",
       "      <th>2</th>\n",
       "      <td>2013-07-02</td>\n",
       "      <td>176217</td>\n",
       "    </tr>\n",
       "    <tr>\n",
       "      <th>3</th>\n",
       "      <td>2013-07-03</td>\n",
       "      <td>52708</td>\n",
       "    </tr>\n",
       "    <tr>\n",
       "      <th>4</th>\n",
       "      <td>2013-07-04</td>\n",
       "      <td>422040</td>\n",
       "    </tr>\n",
       "    <tr>\n",
       "      <th>...</th>\n",
       "      <td>...</td>\n",
       "      <td>...</td>\n",
       "    </tr>\n",
       "    <tr>\n",
       "      <th>278</th>\n",
       "      <td>2014-07-24</td>\n",
       "      <td>786595</td>\n",
       "    </tr>\n",
       "    <tr>\n",
       "      <th>279</th>\n",
       "      <td>2014-07-25</td>\n",
       "      <td>645473</td>\n",
       "    </tr>\n",
       "    <tr>\n",
       "      <th>280</th>\n",
       "      <td>2014-07-26</td>\n",
       "      <td>1138950</td>\n",
       "    </tr>\n",
       "    <tr>\n",
       "      <th>281</th>\n",
       "      <td>2014-07-27</td>\n",
       "      <td>896083</td>\n",
       "    </tr>\n",
       "    <tr>\n",
       "      <th>282</th>\n",
       "      <td>2015-12-31</td>\n",
       "      <td>194</td>\n",
       "    </tr>\n",
       "  </tbody>\n",
       "</table>\n",
       "<p>283 rows × 2 columns</p>\n",
       "</div>"
      ],
      "text/plain": [
       "           date  trip_duration\n",
       "0    2013-06-30         146356\n",
       "1    2013-07-01         202276\n",
       "2    2013-07-02         176217\n",
       "3    2013-07-03          52708\n",
       "4    2013-07-04         422040\n",
       "..          ...            ...\n",
       "278  2014-07-24         786595\n",
       "279  2014-07-25         645473\n",
       "280  2014-07-26        1138950\n",
       "281  2014-07-27         896083\n",
       "282  2015-12-31            194\n",
       "\n",
       "[283 rows x 2 columns]"
      ]
     },
     "execution_count": 4,
     "metadata": {},
     "output_type": "execute_result"
    }
   ],
   "source": [
    "df"
   ]
  },
  {
   "cell_type": "code",
   "execution_count": 6,
   "id": "55a4bc99",
   "metadata": {},
   "outputs": [],
   "source": [
    "series = TimeSeries.from_dataframe(df, \"date\", \"trip_duration\", fill_missing_dates=True, freq=None)"
   ]
  },
  {
   "cell_type": "code",
   "execution_count": 7,
   "id": "b9845464",
   "metadata": {},
   "outputs": [
    {
     "data": {
      "image/png": "[encoded data removed]",
      "text/plain": [
       "<Figure size 432x288 with 1 Axes>"
      ]
     },
     "metadata": {
      "needs_background": "light"
     },
     "output_type": "display_data"
    }
   ],
   "source": [
    "series.plot()"
   ]
  }
 ],
 "metadata": {
  "kernelspec": {
   "display_name": "Python 3 (ipykernel)",
   "language": "python",
   "name": "python3"
  },
  "language_info": {
   "codemirror_mode": {
    "name": "ipython",
    "version": 3
   },
   "file_extension": ".py",
   "mimetype": "text/x-python",
   "name": "python",
   "nbconvert_exporter": "python",
   "pygments_lexer": "ipython3",
   "version": "3.10.0"
  }
 },
 "nbformat": 4,
 "nbformat_minor": 5
}
