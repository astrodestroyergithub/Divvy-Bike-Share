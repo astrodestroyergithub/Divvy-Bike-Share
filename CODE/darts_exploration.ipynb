{
 "cells": [
  {
   "cell_type": "markdown",
   "id": "1046cce2",
   "metadata": {},
   "source": [
    "# Darts"
   ]
  },
  {
   "cell_type": "code",
   "execution_count": 1,
   "id": "35182688",
   "metadata": {},
   "outputs": [
    {
     "name": "stdout",
     "output_type": "stream",
     "text": [
      "Requirement already satisfied: darts in c:\\users\\tamojit\\appdata\\local\\programs\\python\\python310\\lib\\site-packages (0.23.0)\n",
      "Requirement already satisfied: torch>=1.8.0 in c:\\users\\tamojit\\appdata\\local\\programs\\python\\python310\\lib\\site-packages (from darts) (1.13.1)\n",
      "Requirement already satisfied: tbats>=1.1.0 in c:\\users\\tamojit\\appdata\\local\\programs\\python\\python310\\lib\\site-packages (from darts) (1.1.2)\n",
      "Requirement already satisfied: nfoursid>=1.0.0 in c:\\users\\tamojit\\appdata\\local\\programs\\python\\python310\\lib\\site-packages (from darts) (1.0.1)\n",
      "Requirement already satisfied: statsmodels>=0.13.0 in c:\\users\\tamojit\\appdata\\local\\programs\\python\\python310\\lib\\site-packages (from darts) (0.13.5)\n",
      "Requirement already satisfied: pandas>=1.0.5 in c:\\users\\tamojit\\appdata\\local\\programs\\python\\python310\\lib\\site-packages (from darts) (1.3.5)\n",
      "Requirement already satisfied: statsforecast>=1.0.0 in c:\\users\\tamojit\\appdata\\local\\programs\\python\\python310\\lib\\site-packages (from darts) (1.4.0)\n",
      "Requirement already satisfied: tqdm>=4.60.0 in c:\\users\\tamojit\\appdata\\local\\programs\\python\\python310\\lib\\site-packages (from darts) (4.64.1)\n",
      "Requirement already satisfied: xarray>=0.17.0 in c:\\users\\tamojit\\appdata\\local\\programs\\python\\python310\\lib\\site-packages (from darts) (2022.12.0)\n",
      "Requirement already satisfied: matplotlib>=3.3.0 in c:\\users\\tamojit\\appdata\\local\\programs\\python\\python310\\lib\\site-packages (from darts) (3.4.3)\n",
      "Requirement already satisfied: requests>=2.22.0 in c:\\users\\tamojit\\appdata\\local\\programs\\python\\python310\\lib\\site-packages (from darts) (2.28.1)\n",
      "Requirement already satisfied: pmdarima>=1.8.0 in c:\\users\\tamojit\\appdata\\local\\programs\\python\\python310\\lib\\site-packages (from darts) (2.0.2)\n",
      "Requirement already satisfied: catboost>=1.0.6 in c:\\users\\tamojit\\appdata\\local\\programs\\python\\python310\\lib\\site-packages (from darts) (1.1.1)\n",
      "Requirement already satisfied: pyod>=0.9.5 in c:\\users\\tamojit\\appdata\\local\\programs\\python\\python310\\lib\\site-packages (from darts) (1.0.7)\n",
      "Requirement already satisfied: pytorch-lightning>=1.5.0 in c:\\users\\tamojit\\appdata\\local\\programs\\python\\python310\\lib\\site-packages (from darts) (1.8.6)\n",
      "Note: you may need to restart the kernel to use updated packages.\n",
      "Requirement already satisfied: numpy>=1.19.0 in c:\\users\\tamojit\\appdata\\local\\programs\\python\\python310\\lib\\site-packages (from darts) (1.22.4)\n",
      "Requirement already satisfied: lightgbm>=3.2.0 in c:\\users\\tamojit\\appdata\\local\\programs\\python\\python310\\lib\\site-packages (from darts) (3.3.4)\n",
      "Requirement already satisfied: holidays>=0.11.1 in c:\\users\\tamojit\\appdata\\local\\programs\\python\\python310\\lib\\site-packages (from darts) (0.17.2)\n",
      "Requirement already satisfied: prophet>=1.1.1 in c:\\users\\tamojit\\appdata\\local\\programs\\python\\python310\\lib\\site-packages (from darts) (1.1.1)\n",
      "Requirement already satisfied: xgboost>=1.6.0 in c:\\users\\tamojit\\appdata\\local\\programs\\python\\python310\\lib\\site-packages (from darts) (1.7.3)\n",
      "Requirement already satisfied: scikit-learn>=1.0.1 in c:\\users\\tamojit\\appdata\\local\\programs\\python\\python310\\lib\\site-packages (from darts) (1.0.2)\n",
      "Requirement already satisfied: scipy>=1.3.2 in c:\\users\\tamojit\\appdata\\local\\programs\\python\\python310\\lib\\site-packages (from darts) (1.7.3)\n",
      "Requirement already satisfied: shap>=0.40.0 in c:\\users\\tamojit\\appdata\\local\\programs\\python\\python310\\lib\\site-packages (from darts) (0.41.0)\n",
      "Requirement already satisfied: joblib>=0.16.0 in c:\\users\\tamojit\\appdata\\local\\programs\\python\\python310\\lib\\site-packages (from darts) (1.1.0)\n",
      "Requirement already satisfied: six in c:\\users\\tamojit\\appdata\\local\\programs\\python\\python310\\lib\\site-packages (from catboost>=1.0.6->darts) (1.16.0)\n",
      "Requirement already satisfied: plotly in c:\\users\\tamojit\\appdata\\local\\programs\\python\\python310\\lib\\site-packages (from catboost>=1.0.6->darts) (5.6.0)\n",
      "Requirement already satisfied: graphviz in c:\\users\\tamojit\\appdata\\local\\programs\\python\\python310\\lib\\site-packages (from catboost>=1.0.6->darts) (0.19.1)\n",
      "Requirement already satisfied: python-dateutil in c:\\users\\tamojit\\appdata\\local\\programs\\python\\python310\\lib\\site-packages (from holidays>=0.11.1->darts) (2.8.2)\n",
      "Requirement already satisfied: korean-lunar-calendar in c:\\users\\tamojit\\appdata\\local\\programs\\python\\python310\\lib\\site-packages (from holidays>=0.11.1->darts) (0.3.1)\n",
      "Requirement already satisfied: hijri-converter in c:\\users\\tamojit\\appdata\\local\\programs\\python\\python310\\lib\\site-packages (from holidays>=0.11.1->darts) (2.2.4)\n",
      "Requirement already satisfied: convertdate>=2.3.0 in c:\\users\\tamojit\\appdata\\local\\programs\\python\\python310\\lib\\site-packages (from holidays>=0.11.1->darts) (2.4.0)\n",
      "Requirement already satisfied: wheel in c:\\users\\tamojit\\appdata\\local\\programs\\python\\python310\\lib\\site-packages (from lightgbm>=3.2.0->darts) (0.38.4)\n",
      "Requirement already satisfied: pyparsing>=2.2.1 in c:\\users\\tamojit\\appdata\\local\\programs\\python\\python310\\lib\\site-packages (from matplotlib>=3.3.0->darts) (2.4.7)\n",
      "Requirement already satisfied: pillow>=6.2.0 in c:\\users\\tamojit\\appdata\\local\\programs\\python\\python310\\lib\\site-packages (from matplotlib>=3.3.0->darts) (8.4.0)\n",
      "Requirement already satisfied: cycler>=0.10 in c:\\users\\tamojit\\appdata\\local\\programs\\python\\python310\\lib\\site-packages (from matplotlib>=3.3.0->darts) (0.11.0)\n",
      "Requirement already satisfied: kiwisolver>=1.0.1 in c:\\users\\tamojit\\appdata\\local\\programs\\python\\python310\\lib\\site-packages (from matplotlib>=3.3.0->darts) (1.3.2)\n",
      "Requirement already satisfied: pytz>=2017.3 in c:\\users\\tamojit\\appdata\\local\\programs\\python\\python310\\lib\\site-packages (from pandas>=1.0.5->darts) (2021.3)\n",
      "Requirement already satisfied: Cython!=0.29.18,!=0.29.31,>=0.29 in c:\\users\\tamojit\\appdata\\local\\programs\\python\\python310\\lib\\site-packages (from pmdarima>=1.8.0->darts) (0.29.32)\n",
      "Requirement already satisfied: setuptools!=50.0.0,>=38.6.0 in c:\\users\\tamojit\\appdata\\local\\programs\\python\\python310\\lib\\site-packages (from pmdarima>=1.8.0->darts) (65.6.3)\n",
      "Requirement already satisfied: urllib3 in c:\\users\\tamojit\\appdata\\local\\programs\\python\\python310\\lib\\site-packages (from pmdarima>=1.8.0->darts) (1.26.13)\n",
      "Requirement already satisfied: setuptools-git>=1.2 in c:\\users\\tamojit\\appdata\\local\\programs\\python\\python310\\lib\\site-packages (from prophet>=1.1.1->darts) (1.2)\n",
      "Requirement already satisfied: LunarCalendar>=0.0.9 in c:\\users\\tamojit\\appdata\\local\\programs\\python\\python310\\lib\\site-packages (from prophet>=1.1.1->darts) (0.0.9)\n",
      "Requirement already satisfied: cmdstanpy>=1.0.4 in c:\\users\\tamojit\\appdata\\local\\programs\\python\\python310\\lib\\site-packages (from prophet>=1.1.1->darts) (1.0.8)\n",
      "Requirement already satisfied: numba>=0.51 in c:\\users\\tamojit\\appdata\\local\\programs\\python\\python310\\lib\\site-packages (from pyod>=0.9.5->darts) (0.56.4)\n",
      "Requirement already satisfied: packaging>=17.0 in c:\\users\\tamojit\\appdata\\local\\programs\\python\\python310\\lib\\site-packages (from pytorch-lightning>=1.5.0->darts) (21.3)\n",
      "Requirement already satisfied: fsspec[http]>2021.06.0 in c:\\users\\tamojit\\appdata\\local\\programs\\python\\python310\\lib\\site-packages (from pytorch-lightning>=1.5.0->darts) (2022.11.0)\n",
      "Requirement already satisfied: PyYAML>=5.4 in c:\\users\\tamojit\\appdata\\local\\programs\\python\\python310\\lib\\site-packages (from pytorch-lightning>=1.5.0->darts) (6.0)\n",
      "Requirement already satisfied: typing-extensions>=4.0.0 in c:\\users\\tamojit\\appdata\\local\\programs\\python\\python310\\lib\\site-packages (from pytorch-lightning>=1.5.0->darts) (4.4.0)\n",
      "Requirement already satisfied: lightning-utilities!=0.4.0,>=0.3.0 in c:\\users\\tamojit\\appdata\\local\\programs\\python\\python310\\lib\\site-packages (from pytorch-lightning>=1.5.0->darts) (0.5.0)\n",
      "Requirement already satisfied: tensorboardX>=2.2 in c:\\users\\tamojit\\appdata\\local\\programs\\python\\python310\\lib\\site-packages (from pytorch-lightning>=1.5.0->darts) (2.5.1)\n",
      "Requirement already satisfied: torchmetrics>=0.7.0 in c:\\users\\tamojit\\appdata\\local\\programs\\python\\python310\\lib\\site-packages (from pytorch-lightning>=1.5.0->darts) (0.11.0)\n",
      "Requirement already satisfied: certifi>=2017.4.17 in c:\\users\\tamojit\\appdata\\local\\programs\\python\\python310\\lib\\site-packages (from requests>=2.22.0->darts) (2022.9.24)\n",
      "Requirement already satisfied: charset-normalizer<3,>=2 in c:\\users\\tamojit\\appdata\\local\\programs\\python\\python310\\lib\\site-packages (from requests>=2.22.0->darts) (2.1.1)\n",
      "Requirement already satisfied: idna<4,>=2.5 in c:\\users\\tamojit\\appdata\\local\\programs\\python\\python310\\lib\\site-packages (from requests>=2.22.0->darts) (3.4)\n",
      "Requirement already satisfied: threadpoolctl>=2.0.0 in c:\\users\\tamojit\\appdata\\local\\programs\\python\\python310\\lib\\site-packages (from scikit-learn>=1.0.1->darts) (3.0.0)\n",
      "Requirement already satisfied: cloudpickle in c:\\users\\tamojit\\appdata\\local\\programs\\python\\python310\\lib\\site-packages (from shap>=0.40.0->darts) (2.2.0)\n",
      "Requirement already satisfied: slicer==0.0.7 in c:\\users\\tamojit\\appdata\\local\\programs\\python\\python310\\lib\\site-packages (from shap>=0.40.0->darts) (0.0.7)\n",
      "Requirement already satisfied: patsy>=0.5.2 in c:\\users\\tamojit\\appdata\\local\\programs\\python\\python310\\lib\\site-packages (from statsmodels>=0.13.0->darts) (0.5.2)\n",
      "Requirement already satisfied: colorama in c:\\users\\tamojit\\appdata\\local\\programs\\python\\python310\\lib\\site-packages (from tqdm>=4.60.0->darts) (0.4.4)"
     ]
    }
   ],
   "source": [
    "pip install darts"
   ]
  },
  {
   "cell_type": "code",
   "execution_count": 2,
   "id": "1357cf1c",
   "metadata": {},
   "outputs": [
    {
     "name": "stdout",
     "output_type": "stream",
     "text": [
      "\n",
      "Requirement already satisfied: pymeeus<=1,>=0.3.13 in c:\\users\\tamojit\\appdata\\local\\programs\\python\\python310\\lib\\site-packages (from convertdate>=2.3.0->holidays>=0.11.1->darts) (0.5.11)\n",
      "Requirement already satisfied: aiohttp!=4.0.0a0,!=4.0.0a1 in c:\\users\\tamojit\\appdata\\local\\programs\\python\\python310\\lib\\site-packages (from fsspec[http]>2021.06.0->pytorch-lightning>=1.5.0->darts) (3.8.3)\n",
      "Requirement already satisfied: ephem>=3.7.5.3 in c:\\users\\tamojit\\appdata\\local\\programs\\python\\python310\\lib\\site-packages (from LunarCalendar>=0.0.9->prophet>=1.1.1->darts) (4.1.3)\n",
      "Requirement already satisfied: llvmlite<0.40,>=0.39.0dev0 in c:\\users\\tamojit\\appdata\\local\\programs\\python\\python310\\lib\\site-packages (from numba>=0.51->pyod>=0.9.5->darts) (0.39.1)\n",
      "Requirement already satisfied: protobuf<=3.20.1,>=3.8.0 in c:\\users\\tamojit\\appdata\\local\\programs\\python\\python310\\lib\\site-packages (from tensorboardX>=2.2->pytorch-lightning>=1.5.0->darts) (3.19.6)\n",
      "Requirement already satisfied: tenacity>=6.2.0 in c:\\users\\tamojit\\appdata\\local\\programs\\python\\python310\\lib\\site-packages (from plotly->catboost>=1.0.6->darts) (8.0.1)\n",
      "Requirement already satisfied: frozenlist>=1.1.1 in c:\\users\\tamojit\\appdata\\local\\programs\\python\\python310\\lib\\site-packages (from aiohttp!=4.0.0a0,!=4.0.0a1->fsspec[http]>2021.06.0->pytorch-lightning>=1.5.0->darts) (1.3.3)\n",
      "Requirement already satisfied: attrs>=17.3.0 in c:\\users\\tamojit\\appdata\\local\\programs\\python\\python310\\lib\\site-packages (from aiohttp!=4.0.0a0,!=4.0.0a1->fsspec[http]>2021.06.0->pytorch-lightning>=1.5.0->darts) (21.2.0)\n",
      "Requirement already satisfied: multidict<7.0,>=4.5 in c:\\users\\tamojit\\appdata\\local\\programs\\python\\python310\\lib\\site-packages (from aiohttp!=4.0.0a0,!=4.0.0a1->fsspec[http]>2021.06.0->pytorch-lightning>=1.5.0->darts) (6.0.4)\n",
      "Requirement already satisfied: async-timeout<5.0,>=4.0.0a3 in c:\\users\\tamojit\\appdata\\local\\programs\\python\\python310\\lib\\site-packages (from aiohttp!=4.0.0a0,!=4.0.0a1->fsspec[http]>2021.06.0->pytorch-lightning>=1.5.0->darts) (4.0.2)\n",
      "Requirement already satisfied: yarl<2.0,>=1.0 in c:\\users\\tamojit\\appdata\\local\\programs\\python\\python310\\lib\\site-packages (from aiohttp!=4.0.0a0,!=4.0.0a1->fsspec[http]>2021.06.0->pytorch-lightning>=1.5.0->darts) (1.8.2)\n",
      "Requirement already satisfied: aiosignal>=1.1.2 in c:\\users\\tamojit\\appdata\\local\\programs\\python\\python310\\lib\\site-packages (from aiohttp!=4.0.0a0,!=4.0.0a1->fsspec[http]>2021.06.0->pytorch-lightning>=1.5.0->darts) (1.3.1)\n"
     ]
    }
   ],
   "source": [
    "import pandas as pd\n",
    "import numpy as np"
   ]
  },
  {
   "cell_type": "code",
   "execution_count": 3,
   "id": "4cc3fcb1",
   "metadata": {},
   "outputs": [],
   "source": [
    "# import the csv file and read the pandas dataframe\n",
    "df=pd.read_csv('aggregate_trip_duration_date.csv',delimiter=\",\")\n",
    "df=pd.DataFrame(df)\n",
    "df=df.dropna()\n",
    "df=df.sort_values(\"date\")"
   ]
  },
  {
   "cell_type": "code",
   "execution_count": 4,
   "id": "062b4244",
   "metadata": {},
   "outputs": [
    {
     "data": {
      "text/html": [
       "<div>\n",
       "<style scoped>\n",
       "    .dataframe tbody tr th:only-of-type {\n",
       "        vertical-align: middle;\n",
       "    }\n",
       "\n",
       "    .dataframe tbody tr th {\n",
       "        vertical-align: top;\n",
       "    }\n",
       "\n",
       "    .dataframe thead th {\n",
       "        text-align: right;\n",
       "    }\n",
       "</style>\n",
       "<table border=\"1\" class=\"dataframe\">\n",
       "  <thead>\n",
       "    <tr style=\"text-align: right;\">\n",
       "      <th></th>\n",
       "      <th>date</th>\n",
       "      <th>trip_duration</th>\n",
       "    </tr>\n",
       "  </thead>\n",
       "  <tbody>\n",
       "    <tr>\n",
       "      <th>185</th>\n",
       "      <td>01-01-2014</td>\n",
       "      <td>3404</td>\n",
       "    </tr>\n",
       "    <tr>\n",
       "      <th>550</th>\n",
       "      <td>01-01-2015</td>\n",
       "      <td>0</td>\n",
       "    </tr>\n",
       "    <tr>\n",
       "      <th>216</th>\n",
       "      <td>01-02-2014</td>\n",
       "      <td>10416</td>\n",
       "    </tr>\n",
       "    <tr>\n",
       "      <th>581</th>\n",
       "      <td>01-02-2015</td>\n",
       "      <td>0</td>\n",
       "    </tr>\n",
       "    <tr>\n",
       "      <th>244</th>\n",
       "      <td>01-03-2014</td>\n",
       "      <td>21936</td>\n",
       "    </tr>\n",
       "    <tr>\n",
       "      <th>...</th>\n",
       "      <td>...</td>\n",
       "      <td>...</td>\n",
       "    </tr>\n",
       "    <tr>\n",
       "      <th>488</th>\n",
       "      <td>31-10-2014</td>\n",
       "      <td>0</td>\n",
       "    </tr>\n",
       "    <tr>\n",
       "      <th>853</th>\n",
       "      <td>31-10-2015</td>\n",
       "      <td>0</td>\n",
       "    </tr>\n",
       "    <tr>\n",
       "      <th>184</th>\n",
       "      <td>31-12-2013</td>\n",
       "      <td>20314</td>\n",
       "    </tr>\n",
       "    <tr>\n",
       "      <th>549</th>\n",
       "      <td>31-12-2014</td>\n",
       "      <td>0</td>\n",
       "    </tr>\n",
       "    <tr>\n",
       "      <th>914</th>\n",
       "      <td>31-12-2015</td>\n",
       "      <td>194</td>\n",
       "    </tr>\n",
       "  </tbody>\n",
       "</table>\n",
       "<p>915 rows × 2 columns</p>\n",
       "</div>"
      ],
      "text/plain": [
       "           date  trip_duration\n",
       "185  01-01-2014           3404\n",
       "550  01-01-2015              0\n",
       "216  01-02-2014          10416\n",
       "581  01-02-2015              0\n",
       "244  01-03-2014          21936\n",
       "..          ...            ...\n",
       "488  31-10-2014              0\n",
       "853  31-10-2015              0\n",
       "184  31-12-2013          20314\n",
       "549  31-12-2014              0\n",
       "914  31-12-2015            194\n",
       "\n",
       "[915 rows x 2 columns]"
      ]
     },
     "execution_count": 4,
     "metadata": {},
     "output_type": "execute_result"
    }
   ],
   "source": [
    "df"
   ]
  },
  {
   "cell_type": "code",
   "execution_count": 5,
   "id": "54df4b8f",
   "metadata": {},
   "outputs": [
    {
     "name": "stdout",
     "output_type": "stream",
     "text": [
      "915\n"
     ]
    },
    {
     "data": {
      "text/html": [
       "<div>\n",
       "<style scoped>\n",
       "    .dataframe tbody tr th:only-of-type {\n",
       "        vertical-align: middle;\n",
       "    }\n",
       "\n",
       "    .dataframe tbody tr th {\n",
       "        vertical-align: top;\n",
       "    }\n",
       "\n",
       "    .dataframe thead th {\n",
       "        text-align: right;\n",
       "    }\n",
       "</style>\n",
       "<table border=\"1\" class=\"dataframe\">\n",
       "  <thead>\n",
       "    <tr style=\"text-align: right;\">\n",
       "      <th></th>\n",
       "      <th>date</th>\n",
       "      <th>trip_duration</th>\n",
       "    </tr>\n",
       "  </thead>\n",
       "  <tbody>\n",
       "    <tr>\n",
       "      <th>488</th>\n",
       "      <td>31-10-2014</td>\n",
       "      <td>0</td>\n",
       "    </tr>\n",
       "    <tr>\n",
       "      <th>853</th>\n",
       "      <td>31-10-2015</td>\n",
       "      <td>0</td>\n",
       "    </tr>\n",
       "    <tr>\n",
       "      <th>184</th>\n",
       "      <td>31-12-2013</td>\n",
       "      <td>20314</td>\n",
       "    </tr>\n",
       "    <tr>\n",
       "      <th>549</th>\n",
       "      <td>31-12-2014</td>\n",
       "      <td>0</td>\n",
       "    </tr>\n",
       "    <tr>\n",
       "      <th>914</th>\n",
       "      <td>31-12-2015</td>\n",
       "      <td>194</td>\n",
       "    </tr>\n",
       "  </tbody>\n",
       "</table>\n",
       "</div>"
      ],
      "text/plain": [
       "           date  trip_duration\n",
       "488  31-10-2014              0\n",
       "853  31-10-2015              0\n",
       "184  31-12-2013          20314\n",
       "549  31-12-2014              0\n",
       "914  31-12-2015            194"
      ]
     },
     "execution_count": 5,
     "metadata": {},
     "output_type": "execute_result"
    }
   ],
   "source": [
    "print(len(df))\n",
    "df.tail()"
   ]
  },
  {
   "cell_type": "code",
   "execution_count": 6,
   "id": "8a68c02e",
   "metadata": {},
   "outputs": [
    {
     "name": "stderr",
     "output_type": "stream",
     "text": [
      "C:\\Users\\TAMOJIT\\AppData\\Local\\Programs\\Python\\Python310\\lib\\site-packages\\torchmetrics\\functional\\text\\chrf.py:43: UserWarning: Failed to initialize NumPy: module compiled against API version 0x10 but this version of numpy is 0xf (Triggered internally at ..\\torch\\csrc\\utils\\tensor_numpy.cpp:77.)\n",
      "  _EPS_SMOOTHING = tensor(1e-16)\n"
     ]
    }
   ],
   "source": [
    "%load_ext autoreload\n",
    "%autoreload 2\n",
    "%matplotlib inline\n",
    "\n",
    "import sys\n",
    "import time\n",
    "import pandas as pd\n",
    "import numpy as np\n",
    "import matplotlib.pyplot as plt\n",
    "from datetime import datetime\n",
    "from functools import reduce\n",
    "\n",
    "from darts import TimeSeries\n",
    "from darts.models import (\n",
    "    NaiveSeasonal,\n",
    "    NaiveDrift,\n",
    "    Prophet,\n",
    "    ExponentialSmoothing,\n",
    "    ARIMA,\n",
    "    AutoARIMA,\n",
    "    RegressionEnsembleModel,\n",
    "    RegressionModel,\n",
    "    Theta,\n",
    "    FFT\n",
    ")\n",
    "\n",
    "from darts.metrics import mape, mase\n",
    "from darts.utils.statistics import check_seasonality, plot_acf, plot_residuals_analysis\n",
    "\n",
    "import warnings\n",
    "warnings.filterwarnings(\"ignore\")\n",
    "import logging\n",
    "logging.disable(logging.CRITICAL)"
   ]
  },
  {
   "cell_type": "code",
   "execution_count": 7,
   "id": "1fb754fa",
   "metadata": {},
   "outputs": [],
   "source": [
    "series=TimeSeries.from_dataframe(df, 'date', 'trip_duration', fill_missing_dates=True, freq=None)"
   ]
  },
  {
   "cell_type": "code",
   "execution_count": 8,
   "id": "8ada45d1",
   "metadata": {},
   "outputs": [
    {
     "data": {
      "image/png": "[encoded data removed]",
      "text/plain": [
       "<Figure size 432x288 with 1 Axes>"
      ]
     },
     "metadata": {
      "needs_background": "light"
     },
     "output_type": "display_data"
    }
   ],
   "source": [
    "series.plot()"
   ]
  },
  {
   "cell_type": "code",
   "execution_count": 9,
   "id": "a69da7f4",
   "metadata": {},
   "outputs": [
    {
     "data": {
      "text/plain": [
       "<matplotlib.legend.Legend at 0x25cf9c3b5b0>"
      ]
     },
     "execution_count": 9,
     "metadata": {},
     "output_type": "execute_result"
    },
    {
     "data": {
      "image/png": "[encoded data removed]",
      "text/plain": [
       "<Figure size 432x288 with 1 Axes>"
      ]
     },
     "metadata": {
      "needs_background": "light"
     },
     "output_type": "display_data"
    }
   ],
   "source": [
    "train,val=series.split_before(pd.Timestamp('2014-07-10'))\n",
    "train.plot(label='training')\n",
    "val.plot(label='validation')\n",
    "plt.legend()"
   ]
  },
  {
   "cell_type": "code",
   "execution_count": 10,
   "id": "fed0f891",
   "metadata": {},
   "outputs": [
    {
     "data": {
      "text/plain": [
       "<matplotlib.legend.Legend at 0x25c97e139d0>"
      ]
     },
     "execution_count": 10,
     "metadata": {},
     "output_type": "execute_result"
    },
    {
     "data": {
      "image/png": "[encoded data removed]",
      "text/plain": [
       "<Figure size 432x288 with 1 Axes>"
      ]
     },
     "metadata": {
      "needs_background": "light"
     },
     "output_type": "display_data"
    }
   ],
   "source": [
    "naive_model=NaiveSeasonal(K=1)\n",
    "naive_model.fit(train)\n",
    "naive_forecast=naive_model.predict(36)\n",
    "\n",
    "series.plot(label='actual')\n",
    "naive_forecast.plot(label='naive forecast (K=1)')\n",
    "plt.legend()"
   ]
  },
  {
   "cell_type": "code",
   "execution_count": 11,
   "id": "938d04c4",
   "metadata": {},
   "outputs": [
    {
     "data": {
      "image/png": "[encoded data removed]",
      "text/plain": [
       "<Figure size 720x360 with 1 Axes>"
      ]
     },
     "metadata": {
      "needs_background": "light"
     },
     "output_type": "display_data"
    }
   ],
   "source": [
    "plot_acf(train,m=12,alpha=.05)"
   ]
  },
  {
   "cell_type": "code",
   "execution_count": 12,
   "id": "78cb71f9",
   "metadata": {},
   "outputs": [],
   "source": [
    "for m in range(2,25):\n",
    "    is_seasonal,period=check_seasonality(train,m=m,alpha=.05)\n",
    "    if is_seasonal:\n",
    "        print('There is seasonality of order {}.'.format(period))"
   ]
  },
  {
   "cell_type": "code",
   "execution_count": 13,
   "id": "2673fee6",
   "metadata": {},
   "outputs": [
    {
     "data": {
      "text/plain": [
       "<matplotlib.legend.Legend at 0x25c94da5480>"
      ]
     },
     "execution_count": 13,
     "metadata": {},
     "output_type": "execute_result"
    },
    {
     "data": {
      "image/png": "[encoded data removed]",
      "text/plain": [
       "<Figure size 432x288 with 1 Axes>"
      ]
     },
     "metadata": {
      "needs_background": "light"
     },
     "output_type": "display_data"
    }
   ],
   "source": [
    "seasonal_model=NaiveSeasonal(K=4)\n",
    "seasonal_model.fit(train)\n",
    "seasonal_forecast=seasonal_model.predict(120)\n",
    "\n",
    "series.plot(label='actual')\n",
    "seasonal_forecast.plot(label='naive forecast (K=4)')\n",
    "plt.legend()"
   ]
  },
  {
   "cell_type": "code",
   "execution_count": 14,
   "id": "c5087af3",
   "metadata": {},
   "outputs": [
    {
     "data": {
      "text/plain": [
       "<matplotlib.legend.Legend at 0x25c98003cd0>"
      ]
     },
     "execution_count": 14,
     "metadata": {},
     "output_type": "execute_result"
    },
    {
     "data": {
      "image/png": "[encoded data removed]",
      "text/plain": [
       "<Figure size 432x288 with 1 Axes>"
      ]
     },
     "metadata": {
      "needs_background": "light"
     },
     "output_type": "display_data"
    }
   ],
   "source": [
    "seasonal_model=NaiveSeasonal(K=13)\n",
    "seasonal_model.fit(train)\n",
    "seasonal_forecast=seasonal_model.predict(120)\n",
    "\n",
    "series.plot(label='actual')\n",
    "seasonal_forecast.plot(label='naive forecast (K=13)')\n",
    "plt.legend()"
   ]
  },
  {
   "cell_type": "code",
   "execution_count": 15,
   "id": "71ccbe8c",
   "metadata": {},
   "outputs": [
    {
     "data": {
      "text/plain": [
       "<matplotlib.legend.Legend at 0x25c98089db0>"
      ]
     },
     "execution_count": 15,
     "metadata": {},
     "output_type": "execute_result"
    },
    {
     "data": {
      "image/png": "[encoded data removed]",
      "text/plain": [
       "<Figure size 432x288 with 1 Axes>"
      ]
     },
     "metadata": {
      "needs_background": "light"
     },
     "output_type": "display_data"
    }
   ],
   "source": [
    "seasonal_model=NaiveSeasonal(K=22)\n",
    "seasonal_model.fit(train)\n",
    "seasonal_forecast=seasonal_model.predict(120)\n",
    "\n",
    "series.plot(label='actual')\n",
    "seasonal_forecast.plot(label='naive forecast (K=22)')\n",
    "plt.legend()"
   ]
  },
  {
   "cell_type": "code",
   "execution_count": 16,
   "id": "ad65410a",
   "metadata": {},
   "outputs": [
    {
     "data": {
      "text/plain": [
       "<matplotlib.legend.Legend at 0x25c98003070>"
      ]
     },
     "execution_count": 16,
     "metadata": {},
     "output_type": "execute_result"
    },
    {
     "data": {
      "image/png": "[encoded data removed]",
      "text/plain": [
       "<Figure size 432x288 with 1 Axes>"
      ]
     },
     "metadata": {
      "needs_background": "light"
     },
     "output_type": "display_data"
    }
   ],
   "source": [
    "drift_model=NaiveDrift()\n",
    "drift_model.fit(train)\n",
    "drift_forecast=drift_model.predict(120)\n",
    "\n",
    "combined_forecast=drift_forecast+seasonal_forecast-train.last_value()\n",
    "\n",
    "series.plot()\n",
    "combined_forecast.plot(label='combined')\n",
    "drift_forecast.plot(label='drift')\n",
    "plt.legend()"
   ]
  },
  {
   "cell_type": "code",
   "execution_count": 17,
   "id": "7c6395e9",
   "metadata": {},
   "outputs": [
    {
     "ename": "ValueError",
     "evalue": "The actual series must be strictly positive to compute the MAPE.",
     "output_type": "error",
     "traceback": [
      "\u001b[1;31m---------------------------------------------------------------------------\u001b[0m",
      "\u001b[1;31mValueError\u001b[0m                                Traceback (most recent call last)",
      "\u001b[1;32m~\\AppData\\Local\\Temp/ipykernel_5332/3887169785.py\u001b[0m in \u001b[0;36m<module>\u001b[1;34m\u001b[0m\n\u001b[1;32m----> 1\u001b[1;33m \u001b[0mprint\u001b[0m\u001b[1;33m(\u001b[0m\u001b[1;34m\"Mean absolute percentage error for the combined naive drift + seasonal: {:.2f}%.\"\u001b[0m\u001b[1;33m.\u001b[0m\u001b[0mformat\u001b[0m\u001b[1;33m(\u001b[0m\u001b[0mmape\u001b[0m\u001b[1;33m(\u001b[0m\u001b[0mseries\u001b[0m\u001b[1;33m,\u001b[0m\u001b[0mcombined_forecast\u001b[0m\u001b[1;33m)\u001b[0m\u001b[1;33m)\u001b[0m\u001b[1;33m)\u001b[0m\u001b[1;33m\u001b[0m\u001b[1;33m\u001b[0m\u001b[0m\n\u001b[0m",
      "\u001b[1;32m~\\AppData\\Local\\Programs\\Python\\Python310\\lib\\site-packages\\darts\\metrics\\metrics.py\u001b[0m in \u001b[0;36mwrapper_multi_ts_support\u001b[1;34m(*args, **kwargs)\u001b[0m\n\u001b[0;32m     85\u001b[0m         )\n\u001b[0;32m     86\u001b[0m \u001b[1;33m\u001b[0m\u001b[0m\n\u001b[1;32m---> 87\u001b[1;33m         value_list = _parallel_apply(\n\u001b[0m\u001b[0;32m     88\u001b[0m             \u001b[0miterator\u001b[0m\u001b[1;33m=\u001b[0m\u001b[0miterator\u001b[0m\u001b[1;33m,\u001b[0m\u001b[1;33m\u001b[0m\u001b[1;33m\u001b[0m\u001b[0m\n\u001b[0;32m     89\u001b[0m             \u001b[0mfn\u001b[0m\u001b[1;33m=\u001b[0m\u001b[0mfunc\u001b[0m\u001b[1;33m,\u001b[0m\u001b[1;33m\u001b[0m\u001b[1;33m\u001b[0m\u001b[0m\n",
      "\u001b[1;32m~\\AppData\\Local\\Programs\\Python\\Python310\\lib\\site-packages\\darts\\utils\\utils.py\u001b[0m in \u001b[0;36m_parallel_apply\u001b[1;34m(iterator, fn, n_jobs, fn_args, fn_kwargs)\u001b[0m\n\u001b[0;32m    293\u001b[0m     \"\"\"\n\u001b[0;32m    294\u001b[0m \u001b[1;33m\u001b[0m\u001b[0m\n\u001b[1;32m--> 295\u001b[1;33m     returned_data = Parallel(n_jobs=n_jobs)(\n\u001b[0m\u001b[0;32m    296\u001b[0m         \u001b[0mdelayed\u001b[0m\u001b[1;33m(\u001b[0m\u001b[0mfn\u001b[0m\u001b[1;33m)\u001b[0m\u001b[1;33m(\u001b[0m\u001b[1;33m*\u001b[0m\u001b[0msample\u001b[0m\u001b[1;33m,\u001b[0m \u001b[1;33m*\u001b[0m\u001b[0mfn_args\u001b[0m\u001b[1;33m,\u001b[0m \u001b[1;33m**\u001b[0m\u001b[0mfn_kwargs\u001b[0m\u001b[1;33m)\u001b[0m \u001b[1;32mfor\u001b[0m \u001b[0msample\u001b[0m \u001b[1;32min\u001b[0m \u001b[0miterator\u001b[0m\u001b[1;33m\u001b[0m\u001b[1;33m\u001b[0m\u001b[0m\n\u001b[0;32m    297\u001b[0m     )\n",
      "\u001b[1;32m~\\AppData\\Local\\Programs\\Python\\Python310\\lib\\site-packages\\joblib\\parallel.py\u001b[0m in \u001b[0;36m__call__\u001b[1;34m(self, iterable)\u001b[0m\n\u001b[0;32m   1041\u001b[0m             \u001b[1;31m# remaining jobs.\u001b[0m\u001b[1;33m\u001b[0m\u001b[1;33m\u001b[0m\u001b[0m\n\u001b[0;32m   1042\u001b[0m             \u001b[0mself\u001b[0m\u001b[1;33m.\u001b[0m\u001b[0m_iterating\u001b[0m \u001b[1;33m=\u001b[0m \u001b[1;32mFalse\u001b[0m\u001b[1;33m\u001b[0m\u001b[1;33m\u001b[0m\u001b[0m\n\u001b[1;32m-> 1043\u001b[1;33m             \u001b[1;32mif\u001b[0m \u001b[0mself\u001b[0m\u001b[1;33m.\u001b[0m\u001b[0mdispatch_one_batch\u001b[0m\u001b[1;33m(\u001b[0m\u001b[0miterator\u001b[0m\u001b[1;33m)\u001b[0m\u001b[1;33m:\u001b[0m\u001b[1;33m\u001b[0m\u001b[1;33m\u001b[0m\u001b[0m\n\u001b[0m\u001b[0;32m   1044\u001b[0m                 \u001b[0mself\u001b[0m\u001b[1;33m.\u001b[0m\u001b[0m_iterating\u001b[0m \u001b[1;33m=\u001b[0m \u001b[0mself\u001b[0m\u001b[1;33m.\u001b[0m\u001b[0m_original_iterator\u001b[0m \u001b[1;32mis\u001b[0m \u001b[1;32mnot\u001b[0m \u001b[1;32mNone\u001b[0m\u001b[1;33m\u001b[0m\u001b[1;33m\u001b[0m\u001b[0m\n\u001b[0;32m   1045\u001b[0m \u001b[1;33m\u001b[0m\u001b[0m\n",
      "\u001b[1;32m~\\AppData\\Local\\Programs\\Python\\Python310\\lib\\site-packages\\joblib\\parallel.py\u001b[0m in \u001b[0;36mdispatch_one_batch\u001b[1;34m(self, iterator)\u001b[0m\n\u001b[0;32m    859\u001b[0m                 \u001b[1;32mreturn\u001b[0m \u001b[1;32mFalse\u001b[0m\u001b[1;33m\u001b[0m\u001b[1;33m\u001b[0m\u001b[0m\n\u001b[0;32m    860\u001b[0m             \u001b[1;32melse\u001b[0m\u001b[1;33m:\u001b[0m\u001b[1;33m\u001b[0m\u001b[1;33m\u001b[0m\u001b[0m\n\u001b[1;32m--> 861\u001b[1;33m                 \u001b[0mself\u001b[0m\u001b[1;33m.\u001b[0m\u001b[0m_dispatch\u001b[0m\u001b[1;33m(\u001b[0m\u001b[0mtasks\u001b[0m\u001b[1;33m)\u001b[0m\u001b[1;33m\u001b[0m\u001b[1;33m\u001b[0m\u001b[0m\n\u001b[0m\u001b[0;32m    862\u001b[0m                 \u001b[1;32mreturn\u001b[0m \u001b[1;32mTrue\u001b[0m\u001b[1;33m\u001b[0m\u001b[1;33m\u001b[0m\u001b[0m\n\u001b[0;32m    863\u001b[0m \u001b[1;33m\u001b[0m\u001b[0m\n",
      "\u001b[1;32m~\\AppData\\Local\\Programs\\Python\\Python310\\lib\\site-packages\\joblib\\parallel.py\u001b[0m in \u001b[0;36m_dispatch\u001b[1;34m(self, batch)\u001b[0m\n\u001b[0;32m    777\u001b[0m         \u001b[1;32mwith\u001b[0m \u001b[0mself\u001b[0m\u001b[1;33m.\u001b[0m\u001b[0m_lock\u001b[0m\u001b[1;33m:\u001b[0m\u001b[1;33m\u001b[0m\u001b[1;33m\u001b[0m\u001b[0m\n\u001b[0;32m    778\u001b[0m             \u001b[0mjob_idx\u001b[0m \u001b[1;33m=\u001b[0m \u001b[0mlen\u001b[0m\u001b[1;33m(\u001b[0m\u001b[0mself\u001b[0m\u001b[1;33m.\u001b[0m\u001b[0m_jobs\u001b[0m\u001b[1;33m)\u001b[0m\u001b[1;33m\u001b[0m\u001b[1;33m\u001b[0m\u001b[0m\n\u001b[1;32m--> 779\u001b[1;33m             \u001b[0mjob\u001b[0m \u001b[1;33m=\u001b[0m \u001b[0mself\u001b[0m\u001b[1;33m.\u001b[0m\u001b[0m_backend\u001b[0m\u001b[1;33m.\u001b[0m\u001b[0mapply_async\u001b[0m\u001b[1;33m(\u001b[0m\u001b[0mbatch\u001b[0m\u001b[1;33m,\u001b[0m \u001b[0mcallback\u001b[0m\u001b[1;33m=\u001b[0m\u001b[0mcb\u001b[0m\u001b[1;33m)\u001b[0m\u001b[1;33m\u001b[0m\u001b[1;33m\u001b[0m\u001b[0m\n\u001b[0m\u001b[0;32m    780\u001b[0m             \u001b[1;31m# A job can complete so quickly than its callback is\u001b[0m\u001b[1;33m\u001b[0m\u001b[1;33m\u001b[0m\u001b[0m\n\u001b[0;32m    781\u001b[0m             \u001b[1;31m# called before we get here, causing self._jobs to\u001b[0m\u001b[1;33m\u001b[0m\u001b[1;33m\u001b[0m\u001b[0m\n",
      "\u001b[1;32m~\\AppData\\Local\\Programs\\Python\\Python310\\lib\\site-packages\\joblib\\_parallel_backends.py\u001b[0m in \u001b[0;36mapply_async\u001b[1;34m(self, func, callback)\u001b[0m\n\u001b[0;32m    206\u001b[0m     \u001b[1;32mdef\u001b[0m \u001b[0mapply_async\u001b[0m\u001b[1;33m(\u001b[0m\u001b[0mself\u001b[0m\u001b[1;33m,\u001b[0m \u001b[0mfunc\u001b[0m\u001b[1;33m,\u001b[0m \u001b[0mcallback\u001b[0m\u001b[1;33m=\u001b[0m\u001b[1;32mNone\u001b[0m\u001b[1;33m)\u001b[0m\u001b[1;33m:\u001b[0m\u001b[1;33m\u001b[0m\u001b[1;33m\u001b[0m\u001b[0m\n\u001b[0;32m    207\u001b[0m         \u001b[1;34m\"\"\"Schedule a func to be run\"\"\"\u001b[0m\u001b[1;33m\u001b[0m\u001b[1;33m\u001b[0m\u001b[0m\n\u001b[1;32m--> 208\u001b[1;33m         \u001b[0mresult\u001b[0m \u001b[1;33m=\u001b[0m \u001b[0mImmediateResult\u001b[0m\u001b[1;33m(\u001b[0m\u001b[0mfunc\u001b[0m\u001b[1;33m)\u001b[0m\u001b[1;33m\u001b[0m\u001b[1;33m\u001b[0m\u001b[0m\n\u001b[0m\u001b[0;32m    209\u001b[0m         \u001b[1;32mif\u001b[0m \u001b[0mcallback\u001b[0m\u001b[1;33m:\u001b[0m\u001b[1;33m\u001b[0m\u001b[1;33m\u001b[0m\u001b[0m\n\u001b[0;32m    210\u001b[0m             \u001b[0mcallback\u001b[0m\u001b[1;33m(\u001b[0m\u001b[0mresult\u001b[0m\u001b[1;33m)\u001b[0m\u001b[1;33m\u001b[0m\u001b[1;33m\u001b[0m\u001b[0m\n",
      "\u001b[1;32m~\\AppData\\Local\\Programs\\Python\\Python310\\lib\\site-packages\\joblib\\_parallel_backends.py\u001b[0m in \u001b[0;36m__init__\u001b[1;34m(self, batch)\u001b[0m\n\u001b[0;32m    570\u001b[0m         \u001b[1;31m# Don't delay the application, to avoid keeping the input\u001b[0m\u001b[1;33m\u001b[0m\u001b[1;33m\u001b[0m\u001b[0m\n\u001b[0;32m    571\u001b[0m         \u001b[1;31m# arguments in memory\u001b[0m\u001b[1;33m\u001b[0m\u001b[1;33m\u001b[0m\u001b[0m\n\u001b[1;32m--> 572\u001b[1;33m         \u001b[0mself\u001b[0m\u001b[1;33m.\u001b[0m\u001b[0mresults\u001b[0m \u001b[1;33m=\u001b[0m \u001b[0mbatch\u001b[0m\u001b[1;33m(\u001b[0m\u001b[1;33m)\u001b[0m\u001b[1;33m\u001b[0m\u001b[1;33m\u001b[0m\u001b[0m\n\u001b[0m\u001b[0;32m    573\u001b[0m \u001b[1;33m\u001b[0m\u001b[0m\n\u001b[0;32m    574\u001b[0m     \u001b[1;32mdef\u001b[0m \u001b[0mget\u001b[0m\u001b[1;33m(\u001b[0m\u001b[0mself\u001b[0m\u001b[1;33m)\u001b[0m\u001b[1;33m:\u001b[0m\u001b[1;33m\u001b[0m\u001b[1;33m\u001b[0m\u001b[0m\n",
      "\u001b[1;32m~\\AppData\\Local\\Programs\\Python\\Python310\\lib\\site-packages\\joblib\\parallel.py\u001b[0m in \u001b[0;36m__call__\u001b[1;34m(self)\u001b[0m\n\u001b[0;32m    260\u001b[0m         \u001b[1;31m# change the default number of processes to -1\u001b[0m\u001b[1;33m\u001b[0m\u001b[1;33m\u001b[0m\u001b[0m\n\u001b[0;32m    261\u001b[0m         \u001b[1;32mwith\u001b[0m \u001b[0mparallel_backend\u001b[0m\u001b[1;33m(\u001b[0m\u001b[0mself\u001b[0m\u001b[1;33m.\u001b[0m\u001b[0m_backend\u001b[0m\u001b[1;33m,\u001b[0m \u001b[0mn_jobs\u001b[0m\u001b[1;33m=\u001b[0m\u001b[0mself\u001b[0m\u001b[1;33m.\u001b[0m\u001b[0m_n_jobs\u001b[0m\u001b[1;33m)\u001b[0m\u001b[1;33m:\u001b[0m\u001b[1;33m\u001b[0m\u001b[1;33m\u001b[0m\u001b[0m\n\u001b[1;32m--> 262\u001b[1;33m             return [func(*args, **kwargs)\n\u001b[0m\u001b[0;32m    263\u001b[0m                     for func, args, kwargs in self.items]\n\u001b[0;32m    264\u001b[0m \u001b[1;33m\u001b[0m\u001b[0m\n",
      "\u001b[1;32m~\\AppData\\Local\\Programs\\Python\\Python310\\lib\\site-packages\\joblib\\parallel.py\u001b[0m in \u001b[0;36m<listcomp>\u001b[1;34m(.0)\u001b[0m\n\u001b[0;32m    260\u001b[0m         \u001b[1;31m# change the default number of processes to -1\u001b[0m\u001b[1;33m\u001b[0m\u001b[1;33m\u001b[0m\u001b[0m\n\u001b[0;32m    261\u001b[0m         \u001b[1;32mwith\u001b[0m \u001b[0mparallel_backend\u001b[0m\u001b[1;33m(\u001b[0m\u001b[0mself\u001b[0m\u001b[1;33m.\u001b[0m\u001b[0m_backend\u001b[0m\u001b[1;33m,\u001b[0m \u001b[0mn_jobs\u001b[0m\u001b[1;33m=\u001b[0m\u001b[0mself\u001b[0m\u001b[1;33m.\u001b[0m\u001b[0m_n_jobs\u001b[0m\u001b[1;33m)\u001b[0m\u001b[1;33m:\u001b[0m\u001b[1;33m\u001b[0m\u001b[1;33m\u001b[0m\u001b[0m\n\u001b[1;32m--> 262\u001b[1;33m             return [func(*args, **kwargs)\n\u001b[0m\u001b[0;32m    263\u001b[0m                     for func, args, kwargs in self.items]\n\u001b[0;32m    264\u001b[0m \u001b[1;33m\u001b[0m\u001b[0m\n",
      "\u001b[1;32m~\\AppData\\Local\\Programs\\Python\\Python310\\lib\\site-packages\\darts\\metrics\\metrics.py\u001b[0m in \u001b[0;36mwrapper_multivariate_support\u001b[1;34m(*args, **kwargs)\u001b[0m\n\u001b[0;32m    131\u001b[0m         \u001b[1;32mfor\u001b[0m \u001b[0mi\u001b[0m \u001b[1;32min\u001b[0m \u001b[0mrange\u001b[0m\u001b[1;33m(\u001b[0m\u001b[0mactual_series\u001b[0m\u001b[1;33m.\u001b[0m\u001b[0mwidth\u001b[0m\u001b[1;33m)\u001b[0m\u001b[1;33m:\u001b[0m\u001b[1;33m\u001b[0m\u001b[1;33m\u001b[0m\u001b[0m\n\u001b[0;32m    132\u001b[0m             value_list.append(\n\u001b[1;32m--> 133\u001b[1;33m                 func(\n\u001b[0m\u001b[0;32m    134\u001b[0m                     \u001b[0mactual_series\u001b[0m\u001b[1;33m.\u001b[0m\u001b[0munivariate_component\u001b[0m\u001b[1;33m(\u001b[0m\u001b[0mi\u001b[0m\u001b[1;33m)\u001b[0m\u001b[1;33m,\u001b[0m\u001b[1;33m\u001b[0m\u001b[1;33m\u001b[0m\u001b[0m\n\u001b[0;32m    135\u001b[0m                     \u001b[0mpred_series\u001b[0m\u001b[1;33m.\u001b[0m\u001b[0munivariate_component\u001b[0m\u001b[1;33m(\u001b[0m\u001b[0mi\u001b[0m\u001b[1;33m)\u001b[0m\u001b[1;33m,\u001b[0m\u001b[1;33m\u001b[0m\u001b[1;33m\u001b[0m\u001b[0m\n",
      "\u001b[1;32m~\\AppData\\Local\\Programs\\Python\\Python310\\lib\\site-packages\\darts\\metrics\\metrics.py\u001b[0m in \u001b[0;36mmape\u001b[1;34m(actual_series, pred_series, intersect, reduction, inter_reduction, n_jobs, verbose)\u001b[0m\n\u001b[0;32m    585\u001b[0m         \u001b[0mactual_series\u001b[0m\u001b[1;33m,\u001b[0m \u001b[0mpred_series\u001b[0m\u001b[1;33m,\u001b[0m \u001b[0mintersect\u001b[0m\u001b[1;33m,\u001b[0m \u001b[0mremove_nan_union\u001b[0m\u001b[1;33m=\u001b[0m\u001b[1;32mTrue\u001b[0m\u001b[1;33m\u001b[0m\u001b[1;33m\u001b[0m\u001b[0m\n\u001b[0;32m    586\u001b[0m     )\n\u001b[1;32m--> 587\u001b[1;33m     raise_if_not(\n\u001b[0m\u001b[0;32m    588\u001b[0m         \u001b[1;33m(\u001b[0m\u001b[0my_true\u001b[0m \u001b[1;33m!=\u001b[0m \u001b[1;36m0\u001b[0m\u001b[1;33m)\u001b[0m\u001b[1;33m.\u001b[0m\u001b[0mall\u001b[0m\u001b[1;33m(\u001b[0m\u001b[1;33m)\u001b[0m\u001b[1;33m,\u001b[0m\u001b[1;33m\u001b[0m\u001b[1;33m\u001b[0m\u001b[0m\n\u001b[0;32m    589\u001b[0m         \u001b[1;34m\"The actual series must be strictly positive to compute the MAPE.\"\u001b[0m\u001b[1;33m,\u001b[0m\u001b[1;33m\u001b[0m\u001b[1;33m\u001b[0m\u001b[0m\n",
      "\u001b[1;32m~\\AppData\\Local\\Programs\\Python\\Python310\\lib\\site-packages\\darts\\logging.py\u001b[0m in \u001b[0;36mraise_if_not\u001b[1;34m(condition, message, logger)\u001b[0m\n\u001b[0;32m     76\u001b[0m     \u001b[1;32mif\u001b[0m \u001b[1;32mnot\u001b[0m \u001b[0mcondition\u001b[0m\u001b[1;33m:\u001b[0m\u001b[1;33m\u001b[0m\u001b[1;33m\u001b[0m\u001b[0m\n\u001b[0;32m     77\u001b[0m         \u001b[0mlogger\u001b[0m\u001b[1;33m.\u001b[0m\u001b[0merror\u001b[0m\u001b[1;33m(\u001b[0m\u001b[1;34m\"ValueError: \"\u001b[0m \u001b[1;33m+\u001b[0m \u001b[0mmessage\u001b[0m\u001b[1;33m)\u001b[0m\u001b[1;33m\u001b[0m\u001b[1;33m\u001b[0m\u001b[0m\n\u001b[1;32m---> 78\u001b[1;33m         \u001b[1;32mraise\u001b[0m \u001b[0mValueError\u001b[0m\u001b[1;33m(\u001b[0m\u001b[0mmessage\u001b[0m\u001b[1;33m)\u001b[0m\u001b[1;33m\u001b[0m\u001b[1;33m\u001b[0m\u001b[0m\n\u001b[0m\u001b[0;32m     79\u001b[0m \u001b[1;33m\u001b[0m\u001b[0m\n\u001b[0;32m     80\u001b[0m \u001b[1;33m\u001b[0m\u001b[0m\n",
      "\u001b[1;31mValueError\u001b[0m: The actual series must be strictly positive to compute the MAPE."
     ]
    }
   ],
   "source": [
    "print(\"Mean absolute percentage error for the combined naive drift + seasonal: {:.2f}%.\".format(mape(series,combined_forecast)))"
   ]
  },
  {
   "cell_type": "code",
   "execution_count": null,
   "id": "d6fb7a23",
   "metadata": {},
   "outputs": [],
   "source": [
    "def eval_model(model):\n",
    "    model.fit(train)\n",
    "    forecast=model.predict(len(val))\n",
    "    print('model {} obtains MAPE: {:.2f}%'.format(model,mape(val,forecast)))\n",
    "    \n",
    "eval_model(ExponentialSmoothing())\n",
    "eval_model(Prophet())\n",
    "eval_model(AutoARIMA())\n",
    "eval_model(Theta())"
   ]
  },
  {
   "cell_type": "code",
   "execution_count": null,
   "id": "2e5ae877",
   "metadata": {},
   "outputs": [],
   "source": [
    "# seach for the best theta parameter, by trying 50 different values\n",
    "thetas=2-np.linspace(-10,10,50)\n",
    "\n",
    "best_mape=float('inf')\n",
    "best_theta=0\n",
    "\n",
    "for theta in thetas:\n",
    "    model=Theta(theta)\n",
    "    model.fit(train)\n",
    "    pred_theta=model.predict(len(val))\n",
    "    res=mape(val,pred_theta)\n",
    "    \n",
    "    if res<best_mape:\n",
    "        best_mape=res\n",
    "        best_theta=theta"
   ]
  },
  {
   "cell_type": "code",
   "execution_count": null,
   "id": "b227cec1",
   "metadata": {},
   "outputs": [],
   "source": [
    "best_theta_model=Theta(best_theta)\n",
    "best_theta_model.fit(train)\n",
    "pred_best_theta=best_theta_model.predict(len(val))\n",
    "\n",
    "print('The MAPE is: {:.2f}, with theta = {}.'.format(mape(val,pred_best_theta),best_theta))"
   ]
  },
  {
   "cell_type": "code",
   "execution_count": null,
   "id": "0418b2f7",
   "metadata": {},
   "outputs": [],
   "source": [
    "train.plot(label='train')\n",
    "val.plot(label='true')\n",
    "pred_best_theta.plot(label='prediction')\n",
    "plt.legend()"
   ]
  },
  {
   "cell_type": "code",
   "execution_count": null,
   "id": "e25017c3",
   "metadata": {},
   "outputs": [],
   "source": [
    "best_theta_model=Theta(best_theta)\n",
    "\n",
    "average_error=best_theta_model.backtest(series,start=pd.Timestamp('2014-07-10'),forecast_horizon=3,verbose=True)\n",
    "median_error=best_theta_model.backtest(series,start=pd.Timestamp('2014-07-10'),forecast_horizon=3,reduction=np.median,verbose=true)\n",
    "print(\"Average error (MAPE) over all historical forecasts: {}\".format(average_error))\n",
    "print(\"Median error (MAPE) over all historical forecasts: {}\".format(median_error))\n",
    "\n",
    "raw_errors=best_theta_model.backtest(series,start=pd.Timestamp('2014-07-10'),forecast_horizon=3,reduction=None,verbose=True)\n",
    "plt.hist(raw_errors,bins=np.arange(0,max(raw_errors),1))\n",
    "plt.title(\"Industrial error scores (histogram)\")\n",
    "plt.show()\n",
    "\n",
    "historical_fcast_theta=nest_theta_model.historical_forecasts(series,start=pd.Timestamp('2014-07-10'),forecast_horizon=3,verbose=True)"
   ]
  },
  {
   "cell_type": "code",
   "execution_count": null,
   "id": "1fa2a00b",
   "metadata": {},
   "outputs": [],
   "source": [
    "series.plot(label='data')\n",
    "historical_fcast_theta.plot(label='backtest 3-months ahead forecast (Theta)')\n",
    "plt.title('MAPE={:.2f}%'.format(mape(historical_fcast_theta,series)))\n",
    "plt.legend()"
   ]
  },
  {
   "cell_type": "code",
   "execution_count": null,
   "id": "46519a4e",
   "metadata": {},
   "outputs": [],
   "source": [
    "plot_residuals_analysis(best_theta_model.residuals(series))"
   ]
  },
  {
   "cell_type": "code",
   "execution_count": null,
   "id": "10f79b9b",
   "metadata": {},
   "outputs": [],
   "source": [
    "model_es=ExponentialSmoothing()\n",
    "historical_fcast_es=model_es.historical_forecasts(series,start=pd.Timestamp('2014-07-10'),forecast_horizon=3,verbose=True)\n",
    "\n",
    "series.plot(label='data')\n",
    "historical_fcast_theta.plot(label='backtest 3-months ahead forecast (Exp. Smoothing)')\n",
    "plt.title('MAPE={:.2f}%'.format(mape(historical_fcast_es,series)))\n",
    "plt.legend()\n",
    "plt.show()"
   ]
  },
  {
   "cell_type": "code",
   "execution_count": null,
   "id": "4bd2141c",
   "metadata": {},
   "outputs": [],
   "source": [
    "plot_residuals_analysis(model_es.residuals(series))"
   ]
  },
  {
   "cell_type": "code",
   "execution_count": null,
   "id": "44383213",
   "metadata": {},
   "outputs": [],
   "source": [
    "model_es=ExponentialSmoothing()\n",
    "model_es.fit(train)\n",
    "probabilistic_forecast=model_es.predict(len(val),num_samples=500)\n",
    "\n",
    "series.plot(label='actual')\n",
    "probabilistic_forecast.plot(label='probabilistic forecast')\n",
    "plt.legend()\n",
    "plt.show()"
   ]
  },
  {
   "cell_type": "code",
   "execution_count": null,
   "id": "2398f296",
   "metadata": {},
   "outputs": [],
   "source": [
    "probabilistic_forecast.plot(low_quantile=0.01,high_quantile=0.99,label='1-99th percentiles')\n",
    "probabilistic_forecast.plot(low_quantile=0.2,high_quantile=0.8,label='20-80th percentiles')"
   ]
  },
  {
   "cell_type": "code",
   "execution_count": null,
   "id": "b236b14e",
   "metadata": {},
   "outputs": [],
   "source": [
    "ensemble_model=RegressionEnsembleModel(\n",
    "    forecasting_models=[NaiveSeasonal(6),NaiveSeasonal(12),NaiveDrift()],\n",
    "    regression_train_n_points=12)\n",
    "\n",
    "ensemble_model.fit(train)\n",
    "ensemble_pred=ensemble_model.predict(120)\n",
    "\n",
    "series.plot(label='actual')\n",
    "ensemble_pred.plot(label='ensemble forecast')\n",
    "plt.title('MAPE = {:.2f}%'.format(mape(ensemble_pred,series)))\n",
    "plt.legend()"
   ]
  },
  {
   "cell_type": "code",
   "execution_count": null,
   "id": "74f94475",
   "metadata": {},
   "outputs": [],
   "source": [
    "ensemble_pred_hist=ensemble_model.historical_forecasts(series,\n",
    "                                                      start=pd.Timestamp('2014-07-10'),\n",
    "                                                      forecast_horizon=3,\n",
    "                                                      verbose=True)\n",
    "series.plot(label='actual')\n",
    "ensemble_pred_hist.plot(label='ensemble forecast')\n",
    "plt.title('Historical forecast: MAPE = {:.2f}%'.format(mape(ensemble_pred_hist,series)))\n",
    "plt.legend()"
   ]
  },
  {
   "cell_type": "markdown",
   "id": "127491c3",
   "metadata": {},
   "source": [
    "### RNN Model"
   ]
  },
  {
   "cell_type": "code",
   "execution_count": null,
   "id": "c9804a95",
   "metadata": {},
   "outputs": [],
   "source": [
    "import torch\n",
    "import torch.nn as nn\n",
    "import torch.optim as optim\n",
    "import numpy as np\n",
    "import pandas as pd\n",
    "import shutil\n",
    "from sklearn.preprocessing import MinMaxScaler\n",
    "from tqdm import tqdm_notebook as tqdm\n",
    "\n",
    "from torch.utils.tensorboard import SummaryWriter\n",
    "import matplotlib.pyplot as plt\n",
    "\n",
    "from darts import TimeSeries\n",
    "from darts.dataprocessing.transformers import Scaler\n",
    "from darts.models import RNNModel, ExponentialSmoothing, BlockRNNModel\n",
    "from darts.metrics import mape\n",
    "from darts.utils.statistics import check_seasonality,plot_acf\n",
    "\n",
    "from darts.utils.timeseries_generation import datetime_attribute_timeseries\n",
    "\n",
    "import warnings\n",
    "warnings.filterwarnings(\"ignore\")\n",
    "import logging\n",
    "logging.disable(logging.CRITICAL)"
   ]
  },
  {
   "cell_type": "code",
   "execution_count": null,
   "id": "aa851317",
   "metadata": {},
   "outputs": [],
   "source": [
    "# create training and validation sets\n",
    "train,val=series.split_after(pd.Timestamp('2014-07-10'))\n",
    "\n",
    "# normalize the time series (note: we avoid fitting the transformer on the validation set)\n",
    "transformer=Scaler()\n",
    "train_transformed=transformer.fit_transform(train)\n",
    "val_transformed=transformer.transform(val)\n",
    "series_transformed=transformer.transform(series)\n",
    "\n",
    "# create month and year covariate series\n",
    "year_series=datetime_attribute_timeseries(pd.date_range(start=series.start_time(),freq=series.freq_str,periods=1000),\n",
    "                                         attribute='year',one_hot='False')\n",
    "year_series=Scaler().fit_transform(year_series)\n",
    "month_series=datetime_attribute_timeseries(year_series,attribute='month',one_hot=True)\n",
    "covariates=year_series.stack(month_series)\n",
    "cov_train,cov_val=covariates.split_after(pd.Timestamp('2014-07-10'))"
   ]
  },
  {
   "cell_type": "code",
   "execution_count": null,
   "id": "00d4c2d1",
   "metadata": {},
   "outputs": [],
   "source": [
    "my_model=RNNModel(\n",
    "    model='LSTM',\n",
    "    hidden_dim=20,\n",
    "    dropout=0,\n",
    "    batch_size=16,\n",
    "    n_epochs=100,\n",
    "    optimizer_kwargs=('lr':1e-3),\n",
    "    model_name='WPT_RNN',\n",
    "    log_tensorboard=True,\n",
    "    random_state=42,\n",
    "    training_length=20,\n",
    "    input_chunk_length=14,\n",
    "    force_reset=True\n",
    ")"
   ]
  },
  {
   "cell_type": "code",
   "execution_count": null,
   "id": "c2475edd",
   "metadata": {},
   "outputs": [],
   "source": [
    "my_model.fit(train_transformed,\n",
    "                future_covariates=covariates,\n",
    "                val_series=val_transformed,\n",
    "                val_future_covariates=covariates,\n",
    "                verbose=True)"
   ]
  },
  {
   "cell_type": "code",
   "execution_count": null,
   "id": "7f17ccde",
   "metadata": {},
   "outputs": [],
   "source": [
    "def eval_model(model):\n",
    "    pred_series=model.predict(n=26,future_covariates=covariates)\n",
    "    plt.figure(figsize=(8,5))\n",
    "    series_transformed.plot(label='actual')\n",
    "    pred_series.plot(label='forecast')\n",
    "    plt.title('MAPE: {:.2f}%'.format(mape(pred_series,val_transformed)))\n",
    "    plt.legend()\n",
    "    \n",
    "eval_model(my_model)"
   ]
  },
  {
   "cell_type": "code",
   "execution_count": null,
   "id": "52adbf1d",
   "metadata": {},
   "outputs": [],
   "source": [
    "best_model=RNNModel.load_from_checkpoint(model_name='WPT_RNN',best=True)\n",
    "eval_model(best_model)"
   ]
  },
  {
   "cell_type": "code",
   "execution_count": null,
   "id": "ffff073b",
   "metadata": {},
   "outputs": [],
   "source": [
    "backtest_series=my_model.historical_forecasts(series_transformed,\n",
    "                                             future_covariates=covariates,\n",
    "                                             start=pd.Timestamp('2014-07-10'),\n",
    "                                             forecast_horizon=6,\n",
    "                                             retrain=False,\n",
    "                                             verbose=True)"
   ]
  },
  {
   "cell_type": "code",
   "execution_count": null,
   "id": "cd25d3e0",
   "metadata": {},
   "outputs": [],
   "source": [
    "plt.figure(figsize=(8,5))\n",
    "series_transformed.plot(label='actual')\n",
    "backtest_series.plot(label='backtest')\n",
    "plt.legend()\n",
    "plt.title('Backtest starting July 2014, 6-month horizon')\n",
    "print('MAPE: {:.2f}%'.format(mape(transformer.inverse_transform(series_transformed),\n",
    "                                 transformer.inverse_transform(backtest_series))))"
   ]
  },
  {
   "cell_type": "code",
   "execution_count": null,
   "id": "38384681",
   "metadata": {},
   "outputs": [],
   "source": []
  }
 ],
 "metadata": {
  "kernelspec": {
   "display_name": "Python 3 (ipykernel)",
   "language": "python",
   "name": "python3"
  },
  "language_info": {
   "codemirror_mode": {
    "name": "ipython",
    "version": 3
   },
   "file_extension": ".py",
   "mimetype": "text/x-python",
   "name": "python",
   "nbconvert_exporter": "python",
   "pygments_lexer": "ipython3",
   "version": "3.10.0"
  }
 },
 "nbformat": 4,
 "nbformat_minor": 5
}
