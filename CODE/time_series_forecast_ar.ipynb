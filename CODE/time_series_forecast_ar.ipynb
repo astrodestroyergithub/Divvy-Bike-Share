{
 "cells": [
  {
   "cell_type": "markdown",
   "id": "92e5b2e9",
   "metadata": {},
   "source": [
    "# Time Series Forecasting - AR(1)"
   ]
  },
  {
   "cell_type": "code",
   "execution_count": 1,
   "id": "a1e0ec18",
   "metadata": {},
   "outputs": [
    {
     "name": "stdout",
     "output_type": "stream",
     "text": [
      "Requirement already satisfied: statsmodels in c:\\users\\tamojit\\appdata\\local\\programs\\python\\python310\\lib\\site-packages (0.13.5)\n",
      "Requirement already satisfied: numpy>=1.22.3 in c:\\users\\tamojit\\appdata\\local\\programs\\python\\python310\\lib\\site-packages (from statsmodels) (1.22.4)\n",
      "Requirement already satisfied: packaging>=21.3 in c:\\users\\tamojit\\appdata\\local\\programs\\python\\python310\\lib\\site-packages (from statsmodels) (21.3)\n",
      "Requirement already satisfied: pandas>=0.25 in c:\\users\\tamojit\\appdata\\local\\programs\\python\\python310\\lib\\site-packages (from statsmodels) (1.3.5)\n",
      "Requirement already satisfied: scipy>=1.3 in c:\\users\\tamojit\\appdata\\local\\programs\\python\\python310\\lib\\site-packages (from statsmodels) (1.7.3)\n",
      "Requirement already satisfied: patsy>=0.5.2 in c:\\users\\tamojit\\appdata\\local\\programs\\python\\python310\\lib\\site-packages (from statsmodels) (0.5.2)\n",
      "Requirement already satisfied: pyparsing!=3.0.5,>=2.0.2 in c:\\users\\tamojit\\appdata\\local\\programs\\python\\python310\\lib\\site-packages (from packaging>=21.3->statsmodels) (2.4.7)\n",
      "Requirement already satisfied: pytz>=2017.3 in c:\\users\\tamojit\\appdata\\local\\programs\\python\\python310\\lib\\site-packages (from pandas>=0.25->statsmodels) (2021.3)\n",
      "Requirement already satisfied: python-dateutil>=2.7.3 in c:\\users\\tamojit\\appdata\\local\\programs\\python\\python310\\lib\\site-packages (from pandas>=0.25->statsmodels) (2.8.2)\n",
      "Requirement already satisfied: six in c:\\users\\tamojit\\appdata\\local\\programs\\python\\python310\\lib\\site-packages (from patsy>=0.5.2->statsmodels) (1.16.0)\n"
     ]
    }
   ],
   "source": [
    "!pip install statsmodels --upgrade"
   ]
  },
  {
   "cell_type": "code",
   "execution_count": 2,
   "id": "c5045ab8",
   "metadata": {},
   "outputs": [],
   "source": [
    "import pandas as pd\n",
    "import numpy as np\n",
    "from matplotlib import pyplot\n",
    "from statsmodels.tsa.ar_model import AutoReg"
   ]
  },
  {
   "cell_type": "markdown",
   "id": "23728219",
   "metadata": {},
   "source": [
    "Import Data"
   ]
  },
  {
   "cell_type": "code",
   "execution_count": 3,
   "id": "9920734c",
   "metadata": {},
   "outputs": [
    {
     "name": "stdout",
     "output_type": "stream",
     "text": [
      "Shape of data \t (76000, 1)\n",
      "Original Dataset:\n",
      "                      trip_duration\n",
      "start_time                        \n",
      "2013-08-16 17:40:00           2729\n",
      "2014-07-14 17:17:00            277\n",
      "2014-06-19 18:04:00            566\n",
      "2014-07-09 19:46:00            637\n",
      "2014-06-27 16:19:00            161\n",
      "After extracting only trip duration:\n",
      " [[2729]\n",
      " [ 277]\n",
      " [ 566]\n",
      " ...\n",
      " [1409]\n",
      " [ 809]\n",
      " [1885]]\n"
     ]
    }
   ],
   "source": [
    "# import csv dataset\n",
    "df=pd.read_csv('divvy-tripdata_cleaned.csv',index_col=1,parse_dates=True)\n",
    "\n",
    "# make into dataframe\n",
    "df2=pd.DataFrame(df)\n",
    "\n",
    "# which columns to include alongside column acting as index\n",
    "cols=[3]\n",
    "df2=df2[df2.columns[cols]]\n",
    "X=df2.values\n",
    "\n",
    "# printing stuffs\n",
    "print('Shape of data \\t',df2.shape)\n",
    "print('Original Dataset:\\n',df2.head())\n",
    "print('After extracting only trip duration:\\n',X)"
   ]
  },
  {
   "cell_type": "code",
   "execution_count": 4,
   "id": "780c4db4",
   "metadata": {},
   "outputs": [
    {
     "data": {
      "text/html": [
       "<div>\n",
       "<style scoped>\n",
       "    .dataframe tbody tr th:only-of-type {\n",
       "        vertical-align: middle;\n",
       "    }\n",
       "\n",
       "    .dataframe tbody tr th {\n",
       "        vertical-align: top;\n",
       "    }\n",
       "\n",
       "    .dataframe thead th {\n",
       "        text-align: right;\n",
       "    }\n",
       "</style>\n",
       "<table border=\"1\" class=\"dataframe\">\n",
       "  <thead>\n",
       "    <tr style=\"text-align: right;\">\n",
       "      <th></th>\n",
       "      <th>trip_duration</th>\n",
       "    </tr>\n",
       "    <tr>\n",
       "      <th>start_time</th>\n",
       "      <th></th>\n",
       "    </tr>\n",
       "  </thead>\n",
       "  <tbody>\n",
       "    <tr>\n",
       "      <th>2013-08-16 17:40:00</th>\n",
       "      <td>2729</td>\n",
       "    </tr>\n",
       "    <tr>\n",
       "      <th>2014-07-14 17:17:00</th>\n",
       "      <td>277</td>\n",
       "    </tr>\n",
       "    <tr>\n",
       "      <th>2014-06-19 18:04:00</th>\n",
       "      <td>566</td>\n",
       "    </tr>\n",
       "    <tr>\n",
       "      <th>2014-07-09 19:46:00</th>\n",
       "      <td>637</td>\n",
       "    </tr>\n",
       "    <tr>\n",
       "      <th>2014-06-27 16:19:00</th>\n",
       "      <td>161</td>\n",
       "    </tr>\n",
       "    <tr>\n",
       "      <th>...</th>\n",
       "      <td>...</td>\n",
       "    </tr>\n",
       "    <tr>\n",
       "      <th>2013-08-01 19:52:00</th>\n",
       "      <td>958</td>\n",
       "    </tr>\n",
       "    <tr>\n",
       "      <th>2014-07-07 22:41:00</th>\n",
       "      <td>844</td>\n",
       "    </tr>\n",
       "    <tr>\n",
       "      <th>2013-11-23 09:05:00</th>\n",
       "      <td>1409</td>\n",
       "    </tr>\n",
       "    <tr>\n",
       "      <th>2014-03-10 14:19:00</th>\n",
       "      <td>809</td>\n",
       "    </tr>\n",
       "    <tr>\n",
       "      <th>2014-03-11 13:56:00</th>\n",
       "      <td>1885</td>\n",
       "    </tr>\n",
       "  </tbody>\n",
       "</table>\n",
       "<p>76000 rows × 1 columns</p>\n",
       "</div>"
      ],
      "text/plain": [
       "                     trip_duration\n",
       "start_time                        \n",
       "2013-08-16 17:40:00           2729\n",
       "2014-07-14 17:17:00            277\n",
       "2014-06-19 18:04:00            566\n",
       "2014-07-09 19:46:00            637\n",
       "2014-06-27 16:19:00            161\n",
       "...                            ...\n",
       "2013-08-01 19:52:00            958\n",
       "2014-07-07 22:41:00            844\n",
       "2013-11-23 09:05:00           1409\n",
       "2014-03-10 14:19:00            809\n",
       "2014-03-11 13:56:00           1885\n",
       "\n",
       "[76000 rows x 1 columns]"
      ]
     },
     "execution_count": 4,
     "metadata": {},
     "output_type": "execute_result"
    }
   ],
   "source": [
    "# how the data looks like\n",
    "df2"
   ]
  },
  {
   "cell_type": "code",
   "execution_count": 5,
   "id": "ca13222e",
   "metadata": {},
   "outputs": [
    {
     "data": {
      "text/plain": [
       "<AxesSubplot:xlabel='start_time'>"
      ]
     },
     "execution_count": 5,
     "metadata": {},
     "output_type": "execute_result"
    },
    {
     "data": {
      "image/png": "[encoded data removed]",
      "text/plain": [
       "<Figure size 432x288 with 1 Axes>"
      ]
     },
     "metadata": {
      "needs_background": "light"
     },
     "output_type": "display_data"
    }
   ],
   "source": [
    "# plot a graph\n",
    "df2.plot()"
   ]
  },
  {
   "cell_type": "code",
   "execution_count": 6,
   "id": "9969d1be",
   "metadata": {},
   "outputs": [
    {
     "name": "stdout",
     "output_type": "stream",
     "text": [
      "1. ADF :  -275.94903092250775\n",
      "2. P-Value :  0.0\n",
      "3. No. of Lags :  0\n",
      "4. No. of Observations used for ADF Regression and Critical Value Calculation :  75999\n",
      "5. Critical Values :\n",
      "\t 1% :  -3.4304360474596383\n",
      "\t 5% :  -2.8615780314967068\n",
      "\t 10% :  -2.566790242857946\n"
     ]
    }
   ],
   "source": [
    "# performing \"Augmented Dickey Fuller\" test to check for stationarity of data\n",
    "\n",
    "from statsmodels.tsa.stattools import adfuller\n",
    "\n",
    "dftest=adfuller(df2['trip_duration'],autolag='AIC')\n",
    "\n",
    "print(\"1. ADF : \",dftest[0])\n",
    "print(\"2. P-Value : \",dftest[1])\n",
    "print(\"3. No. of Lags : \",dftest[2])\n",
    "print(\"4. No. of Observations used for ADF Regression and Critical Value Calculation : \",dftest[3])\n",
    "print(\"5. Critical Values :\")\n",
    "for key,val in dftest[4].items():\n",
    "    print(\"\\t\",key, \": \",val)"
   ]
  },
  {
   "cell_type": "markdown",
   "id": "406e8ede",
   "metadata": {},
   "source": [
    "Inference: As the P-Value is less than 0.05 (statistically significant), which means the null hypothesis should be rejected. The data is stationary."
   ]
  },
  {
   "cell_type": "code",
   "execution_count": 10,
   "id": "0d22612a",
   "metadata": {},
   "outputs": [],
   "source": [
    "# from statsmodels.graphics.tsaplots import plot_pacf,plot_acf\n",
    "# pacf=plot_pacf(df2['trip_duration'],lags=2)\n",
    "# acf=plot_acf(df2['trip_duration'],lags=2)"
   ]
  },
  {
   "cell_type": "markdown",
   "id": "a9f345c5",
   "metadata": {},
   "source": [
    "Split Dataset into Train and Test: Testing : Last 7 days"
   ]
  },
  {
   "cell_type": "code",
   "execution_count": 8,
   "id": "6ec5bb38",
   "metadata": {},
   "outputs": [],
   "source": [
    "# splitting the dataset into training and testing sets\n",
    "train=X[:len(X)-7]\n",
    "test=X[len(X)-7:]"
   ]
  },
  {
   "cell_type": "code",
   "execution_count": 9,
   "id": "c0024f0a",
   "metadata": {},
   "outputs": [],
   "source": [
    "# creating the model after training on the training data\n",
    "model=AutoReg(train,lags=10).fit()"
   ]
  },
  {
   "cell_type": "code",
   "execution_count": 10,
   "id": "d1228950",
   "metadata": {},
   "outputs": [
    {
     "name": "stdout",
     "output_type": "stream",
     "text": [
      "                            AutoReg Model Results                             \n",
      "==============================================================================\n",
      "Dep. Variable:                      y   No. Observations:                75993\n",
      "Model:                    AutoReg(10)   Log Likelihood             -695864.992\n",
      "Method:               Conditional MLE   S.D. of innovations           2296.699\n",
      "Date:                Mon, 05 Dec 2022   AIC                        1391753.983\n",
      "Time:                        12:19:39   BIC                        1391864.843\n",
      "Sample:                            10   HQIC                       1391788.047\n",
      "                                75993                                         \n",
      "==============================================================================\n",
      "                 coef    std err          z      P>|z|      [0.025      0.975]\n",
      "------------------------------------------------------------------------------\n",
      "const       1145.1613     15.513     73.821      0.000    1114.757    1175.566\n",
      "y.L1          -0.0010      0.004     -0.266      0.790      -0.008       0.006\n",
      "y.L2          -0.0028      0.004     -0.773      0.440      -0.010       0.004\n",
      "y.L3           0.0013      0.004      0.364      0.716      -0.006       0.008\n",
      "y.L4          -0.0011      0.004     -0.290      0.772      -0.008       0.006\n",
      "y.L5           0.0041      0.004      1.143      0.253      -0.003       0.011\n",
      "y.L6          -0.0063      0.004     -1.725      0.084      -0.013       0.001\n",
      "y.L7          -0.0010      0.004     -0.270      0.787      -0.008       0.006\n",
      "y.L8          -0.0010      0.004     -0.282      0.778      -0.008       0.006\n",
      "y.L9          -0.0013      0.004     -0.365      0.715      -0.008       0.006\n",
      "y.L10          0.0011      0.004      0.299      0.765      -0.006       0.008\n",
      "                                    Roots                                     \n",
      "==============================================================================\n",
      "                   Real          Imaginary           Modulus         Frequency\n",
      "------------------------------------------------------------------------------\n",
      "AR.1            -1.9863           -0.0000j            1.9863           -0.5000\n",
      "AR.2            -1.4920           -1.0863j            1.8456           -0.3998\n",
      "AR.3            -1.4920           +1.0863j            1.8456            0.3998\n",
      "AR.4            -0.4857           -1.8841j            1.9457           -0.2902\n",
      "AR.5            -0.4857           +1.8841j            1.9457            0.2902\n",
      "AR.6             0.6506           -1.8350j            1.9469           -0.1958\n",
      "AR.7             0.6506           +1.8350j            1.9469            0.1958\n",
      "AR.8             1.7251           -0.9787j            1.9834           -0.0821\n",
      "AR.9             1.7251           +0.9787j            1.9834            0.0821\n",
      "AR.10            2.4109           -0.0000j            2.4109           -0.0000\n",
      "------------------------------------------------------------------------------\n"
     ]
    }
   ],
   "source": [
    "# printing the model summary\n",
    "print(model.summary())"
   ]
  },
  {
   "cell_type": "code",
   "execution_count": 11,
   "id": "ad7ed003",
   "metadata": {},
   "outputs": [
    {
     "name": "stdout",
     "output_type": "stream",
     "text": [
      "75993\n"
     ]
    }
   ],
   "source": [
    "print(len(train))"
   ]
  },
  {
   "cell_type": "markdown",
   "id": "496e507c",
   "metadata": {},
   "source": [
    "Make Predictions on Test Set and Compare"
   ]
  },
  {
   "cell_type": "code",
   "execution_count": null,
   "id": "02aaa475",
   "metadata": {},
   "outputs": [],
   "source": []
  },
  {
   "cell_type": "markdown",
   "id": "9126d20d",
   "metadata": {},
   "source": [
    "# \n",
    "pred=model.predict(start=len(train),end=len(X)-1,dynamic=False)"
   ]
  },
  {
   "cell_type": "code",
   "execution_count": 13,
   "id": "62b0aaf2",
   "metadata": {},
   "outputs": [
    {
     "name": "stdout",
     "output_type": "stream",
     "text": [
      "[1140.88097595 1142.15828814 1138.04795025 1131.48955233 1138.94974506\n",
      " 1132.76496985 1136.22582997]\n"
     ]
    },
    {
     "data": {
      "image/png": "[encoded data removed]",
      "text/plain": [
       "<Figure size 432x288 with 1 Axes>"
      ]
     },
     "metadata": {
      "needs_background": "light"
     },
     "output_type": "display_data"
    }
   ],
   "source": [
    "from matplotlib import pyplot\n",
    "pyplot.plot(pred)\n",
    "pyplot.plot(test,color='red')\n",
    "print(pred)"
   ]
  },
  {
   "cell_type": "markdown",
   "id": "ea7b0228",
   "metadata": {},
   "source": [
    "Calculate Error"
   ]
  },
  {
   "cell_type": "code",
   "execution_count": 14,
   "id": "474ce2a4",
   "metadata": {},
   "outputs": [],
   "source": [
    "from math import sqrt\n",
    "from sklearn.metrics import mean_squared_error\n",
    "rmse=sqrt(mean_squared_error(test,pred))"
   ]
  },
  {
   "cell_type": "code",
   "execution_count": 15,
   "id": "8ff3da1a",
   "metadata": {},
   "outputs": [
    {
     "name": "stdout",
     "output_type": "stream",
     "text": [
      "567.4040734634955\n"
     ]
    }
   ],
   "source": [
    "print(rmse)"
   ]
  },
  {
   "cell_type": "markdown",
   "id": "46f61a72",
   "metadata": {},
   "source": [
    "Making Future Predictions"
   ]
  },
  {
   "cell_type": "code",
   "execution_count": 16,
   "id": "d381fa8a",
   "metadata": {},
   "outputs": [
    {
     "name": "stdout",
     "output_type": "stream",
     "text": [
      "The future prediction for the next timeframe\n",
      "[1135.34267101 1136.5921055  1136.21029705 1136.2633281  1136.25222976\n",
      " 1136.22392778 1136.25229371]\n",
      "Number of Predictions Made: \t 7\n"
     ]
    }
   ],
   "source": [
    "pred_future=model.predict(start=len(X)+1,end=len(X)+7,dynamic=False)\n",
    "print(\"The future prediction for the next timeframe\")\n",
    "print(pred_future)\n",
    "print('Number of Predictions Made: \\t',len(pred_future))"
   ]
  }
 ],
 "metadata": {
  "kernelspec": {
   "display_name": "Python 3 (ipykernel)",
   "language": "python",
   "name": "python3"
  },
  "language_info": {
   "codemirror_mode": {
    "name": "ipython",
    "version": 3
   },
   "file_extension": ".py",
   "mimetype": "text/x-python",
   "name": "python",
   "nbconvert_exporter": "python",
   "pygments_lexer": "ipython3",
   "version": "3.10.0"
  }
 },
 "nbformat": 4,
 "nbformat_minor": 5
}
